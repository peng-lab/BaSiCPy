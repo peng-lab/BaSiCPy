{
 "cells": [
  {
   "cell_type": "markdown",
   "metadata": {},
   "source": [
    "# Brightfield timelapse example"
   ]
  },
  {
   "cell_type": "markdown",
   "metadata": {},
   "source": [
    "## Install and import the dependencies"
   ]
  },
  {
   "cell_type": "code",
   "execution_count": null,
   "metadata": {
    "colab": {
     "base_uri": "https://localhost:8080/"
    },
    "id": "DCqaHnhpvUke",
    "outputId": "0918aaf4-8417-423f-8445-6a47c2599739"
   },
   "outputs": [],
   "source": [
    "%pip uninstall basicpy -yq\n",
    "%pip install basicpy -q"
   ]
  },
  {
   "cell_type": "code",
   "execution_count": null,
   "metadata": {},
   "outputs": [],
   "source": [
    "from basicpy import BaSiC\n",
    "from basicpy import data as bdata\n",
    "from matplotlib import pyplot as plt"
   ]
  },
  {
   "cell_type": "markdown",
   "metadata": {},
   "source": [
    "## Load the sample images"
   ]
  },
  {
   "cell_type": "code",
   "execution_count": null,
   "metadata": {},
   "outputs": [],
   "source": [
    "images = bdata.timelapse_brightfield()\n",
    "plt.imshow(images[10])"
   ]
  },
  {
   "cell_type": "markdown",
   "metadata": {},
   "source": [
    "## Fit the flatfield and darkfield"
   ]
  },
  {
   "cell_type": "code",
   "execution_count": null,
   "metadata": {
    "colab": {
     "base_uri": "https://localhost:8080/",
     "height": 689
    },
    "id": "Yd4VFjNSvUki",
    "outputId": "ac5030ba-a65f-465c-a4c2-6447d96f0614"
   },
   "outputs": [],
   "source": [
    "basic = BaSiC(get_darkfield=True, lambda_flatfield_coef=10)\n",
    "basic.fit(images)"
   ]
  },
  {
   "cell_type": "markdown",
   "metadata": {},
   "source": [
    "## Plot the fit results"
   ]
  },
  {
   "cell_type": "code",
   "execution_count": null,
   "metadata": {},
   "outputs": [],
   "source": [
    "fig, axes = plt.subplots(1, 3, figsize=(9, 3))\n",
    "im = axes[0].imshow(basic.flatfield)\n",
    "fig.colorbar(im, ax=axes[0])\n",
    "axes[0].set_title(\"Flatfield\")\n",
    "im = axes[1].imshow(basic.darkfield)\n",
    "fig.colorbar(im, ax=axes[1])\n",
    "axes[1].set_title(\"Darkfield\")\n",
    "axes[2].plot(basic.baseline)\n",
    "axes[2].set_xlabel(\"Frame\")\n",
    "axes[2].set_ylabel(\"Baseline\")\n",
    "fig.tight_layout()"
   ]
  },
  {
   "cell_type": "markdown",
   "metadata": {},
   "source": [
    "## Correct the original images"
   ]
  },
  {
   "cell_type": "code",
   "execution_count": null,
   "metadata": {
    "colab": {
     "base_uri": "https://localhost:8080/"
    },
    "id": "puhxtk2XvUkj",
    "outputId": "78d0bfbb-c10a-48b0-8e16-69d1059fe138"
   },
   "outputs": [],
   "source": [
    "images_transformed = basic.transform(images)"
   ]
  },
  {
   "cell_type": "markdown",
   "metadata": {},
   "source": [
    "## Plot the corrected results"
   ]
  },
  {
   "cell_type": "code",
   "execution_count": null,
   "metadata": {
    "colab": {
     "base_uri": "https://localhost:8080/",
     "height": 225
    },
    "nbsphinx-thumbnail": {
     "tooltip": "Original and corrected Brightfield timelapse image"
    },
    "id": "M4nq6-NCvUkj",
    "outputId": "5facd044-3ee2-48b5-e6ac-19529f0250a6"
   },
   "outputs": [],
   "source": [
    "i = 12\n",
    "fig, axes = plt.subplots(1, 2, figsize=(6, 3))\n",
    "im = axes[0].imshow(images[i])\n",
    "fig.colorbar(im, ax=axes[0])\n",
    "axes[0].set_title(\"Original\")\n",
    "im = axes[1].imshow(images_transformed[i])\n",
    "fig.colorbar(im, ax=axes[1])\n",
    "axes[1].set_title(\"Corrected\")\n",
    "fig.tight_layout()"
   ]
  },
  {
   "cell_type": "code",
   "execution_count": null,
   "metadata": {},
   "outputs": [],
   "source": []
  }
 ],
 "metadata": {
  "accelerator": "GPU",
  "colab": {
   "name": "WSI_brain.ipynb",
   "provenance": []
  },
  "kernelspec": {
   "display_name": "Python 3.10.4 64-bit ('basicpy')",
   "language": "python",
   "name": "python3"
  },
  "language_info": {
   "codemirror_mode": {
    "name": "ipython",
    "version": 3
   },
   "file_extension": ".py",
   "mimetype": "text/x-python",
   "name": "python",
   "nbconvert_exporter": "python",
   "pygments_lexer": "ipython3",
   "version": "3.10.4"
  },
  "orig_nbformat": 4,
  "vscode": {
   "interpreter": {
    "hash": "94d90e34151816d9ad33c100d368abaa64323eadad93d233bb0bcc2f1acbe972"
   }
  }
 },
 "nbformat": 4,
 "nbformat_minor": 0
}
