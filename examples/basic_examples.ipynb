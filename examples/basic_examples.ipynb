{
 "cells": [
  {
   "cell_type": "code",
   "execution_count": 6,
   "metadata": {},
   "outputs": [
    {
     "name": "stdout",
     "output_type": "stream",
     "text": [
      "Collecting git+https://github.com/yfukai/BaSiCpy/@4e2cddb286231fa633d6af17ac4743f1988d6cb8\n",
      "  Cloning https://github.com/yfukai/BaSiCpy/ (to revision 4e2cddb286231fa633d6af17ac4743f1988d6cb8) to /private/var/folders/pz/_dlzclyn4mjgvngf1dpfg_880000gn/T/pip-req-build-p86bwa_8\n",
      "  Running command git clone -q https://github.com/yfukai/BaSiCpy/ /private/var/folders/pz/_dlzclyn4mjgvngf1dpfg_880000gn/T/pip-req-build-p86bwa_8\n",
      "  Running command git rev-parse -q --verify 'sha^4e2cddb286231fa633d6af17ac4743f1988d6cb8'\n",
      "  Running command git fetch -q https://github.com/yfukai/BaSiCpy/ 4e2cddb286231fa633d6af17ac4743f1988d6cb8\n",
      "  Running command git checkout -q 4e2cddb286231fa633d6af17ac4743f1988d6cb8\n",
      "  Resolved https://github.com/yfukai/BaSiCpy/ to commit 4e2cddb286231fa633d6af17ac4743f1988d6cb8\n",
      "  Installing build dependencies ... \u001b[?25ldone\n",
      "\u001b[?25h  Getting requirements to build wheel ... \u001b[?25ldone\n",
      "\u001b[?25h    Preparing wheel metadata ... \u001b[?25ldone\n",
      "\u001b[?25hRequirement already satisfied: jax in /Users/fukai/.pyenv/versions/3.9.7/lib/python3.9/site-packages (from BaSiCPy==0.0.1) (0.2.27)\n",
      "Requirement already satisfied: jaxlib in /Users/fukai/.pyenv/versions/3.9.7/lib/python3.9/site-packages (from BaSiCPy==0.0.1) (0.1.75)\n",
      "Requirement already satisfied: pydantic in /Users/fukai/.pyenv/versions/3.9.7/lib/python3.9/site-packages (from BaSiCPy==0.0.1) (1.9.1)\n",
      "Requirement already satisfied: scipy in /Users/fukai/.pyenv/versions/3.9.7/lib/python3.9/site-packages (from BaSiCPy==0.0.1) (1.7.3)\n",
      "Requirement already satisfied: scikit-image in /Users/fukai/.pyenv/versions/3.9.7/lib/python3.9/site-packages (from BaSiCPy==0.0.1) (0.19.1)\n",
      "Requirement already satisfied: numpy in /Users/fukai/.pyenv/versions/3.9.7/lib/python3.9/site-packages (from BaSiCPy==0.0.1) (1.22.2)\n",
      "Requirement already satisfied: absl-py in /Users/fukai/.pyenv/versions/3.9.7/lib/python3.9/site-packages (from jax->BaSiCPy==0.0.1) (1.0.0)\n",
      "Requirement already satisfied: opt_einsum in /Users/fukai/.pyenv/versions/3.9.7/lib/python3.9/site-packages (from jax->BaSiCPy==0.0.1) (3.3.0)\n",
      "Requirement already satisfied: typing_extensions in /Users/fukai/.pyenv/versions/3.9.7/lib/python3.9/site-packages (from jax->BaSiCPy==0.0.1) (3.10.0.0)\n",
      "Requirement already satisfied: six in /Users/fukai/.pyenv/versions/3.9.7/lib/python3.9/site-packages (from absl-py->jax->BaSiCPy==0.0.1) (1.16.0)\n",
      "Requirement already satisfied: flatbuffers<3.0,>=1.12 in /Users/fukai/.pyenv/versions/3.9.7/lib/python3.9/site-packages (from jaxlib->BaSiCPy==0.0.1) (2.0)\n",
      "Requirement already satisfied: networkx>=2.2 in /Users/fukai/.pyenv/versions/3.9.7/lib/python3.9/site-packages (from scikit-image->BaSiCPy==0.0.1) (2.6.3)\n",
      "Requirement already satisfied: imageio>=2.4.1 in /Users/fukai/.pyenv/versions/3.9.7/lib/python3.9/site-packages (from scikit-image->BaSiCPy==0.0.1) (2.13.5)\n",
      "Requirement already satisfied: PyWavelets>=1.1.1 in /Users/fukai/.pyenv/versions/3.9.7/lib/python3.9/site-packages (from scikit-image->BaSiCPy==0.0.1) (1.2.0)\n",
      "Requirement already satisfied: packaging>=20.0 in /Users/fukai/.pyenv/versions/3.9.7/lib/python3.9/site-packages (from scikit-image->BaSiCPy==0.0.1) (20.9)\n",
      "Requirement already satisfied: tifffile>=2019.7.26 in /Users/fukai/.pyenv/versions/3.9.7/lib/python3.9/site-packages (from scikit-image->BaSiCPy==0.0.1) (2021.11.2)\n",
      "Requirement already satisfied: pillow!=7.1.0,!=7.1.1,!=8.3.0,>=6.1.0 in /Users/fukai/.pyenv/versions/3.9.7/lib/python3.9/site-packages (from scikit-image->BaSiCPy==0.0.1) (9.0.0)\n",
      "Requirement already satisfied: pyparsing>=2.0.2 in /Users/fukai/.pyenv/versions/3.9.7/lib/python3.9/site-packages (from packaging>=20.0->scikit-image->BaSiCPy==0.0.1) (3.0.6)\n",
      "Building wheels for collected packages: BaSiCPy\n",
      "  Building wheel for BaSiCPy (PEP 517) ... \u001b[?25ldone\n",
      "\u001b[?25h  Created wheel for BaSiCPy: filename=BaSiCPy-0.0.1-py3-none-any.whl size=16576 sha256=a0e540f91082dbafd67bf6a4409f56e5f7d61d64f20d59e7147a645b7633b838\n",
      "  Stored in directory: /Users/fukai/Library/Caches/pip/wheels/12/64/6d/90497eaa8ebd6a8da3cdbedcd3a808dc2c1cd26b6351db3d9b\n",
      "Successfully built BaSiCPy\n",
      "Installing collected packages: BaSiCPy\n",
      "Successfully installed BaSiCPy-0.0.1\n",
      "\u001b[33mWARNING: You are using pip version 21.2.3; however, version 22.1.1 is available.\n",
      "You should consider upgrading via the '/Users/fukai/.pyenv/versions/3.9.7/bin/python3.9 -m pip install --upgrade pip' command.\u001b[0m\n"
     ]
    }
   ],
   "source": [
    "!pip uninstall basicpy -y\n",
    "!pip install git+https://github.com/yfukai/BaSiCpy/@4e2cddb286231fa633d6af17ac4743f1988d6cb8"
   ]
  },
  {
   "cell_type": "code",
   "execution_count": 8,
   "metadata": {},
   "outputs": [
    {
     "ename": "ImportError",
     "evalue": "cannot import name 'data' from 'basicpy' (/Users/fukai/.pyenv/versions/3.9.7/lib/python3.9/site-packages/basicpy/__init__.py)",
     "output_type": "error",
     "traceback": [
      "\u001b[0;31m---------------------------------------------------------------------------\u001b[0m",
      "\u001b[0;31mImportError\u001b[0m                               Traceback (most recent call last)",
      "\u001b[1;32m/Users/fukai/projects/BaSiCpy/examples/basic_examples.ipynb Cell 2'\u001b[0m in \u001b[0;36m<module>\u001b[0;34m\u001b[0m\n\u001b[1;32m      <a href='vscode-notebook-cell:/Users/fukai/projects/BaSiCpy/examples/basic_examples.ipynb#ch0000001?line=0'>1</a>\u001b[0m \u001b[39mfrom\u001b[39;00m \u001b[39mbasicpy\u001b[39;00m \u001b[39mimport\u001b[39;00m BaSiC\n\u001b[0;32m----> <a href='vscode-notebook-cell:/Users/fukai/projects/BaSiCpy/examples/basic_examples.ipynb#ch0000001?line=1'>2</a>\u001b[0m \u001b[39mfrom\u001b[39;00m \u001b[39mbasicpy\u001b[39;00m \u001b[39mimport\u001b[39;00m data \u001b[39mas\u001b[39;00m bdata\n\u001b[1;32m      <a href='vscode-notebook-cell:/Users/fukai/projects/BaSiCpy/examples/basic_examples.ipynb#ch0000001?line=2'>3</a>\u001b[0m \u001b[39mfrom\u001b[39;00m \u001b[39mmatplotlib\u001b[39;00m \u001b[39mimport\u001b[39;00m pyplot \u001b[39mas\u001b[39;00m plt\n\u001b[1;32m      <a href='vscode-notebook-cell:/Users/fukai/projects/BaSiCpy/examples/basic_examples.ipynb#ch0000001?line=4'>5</a>\u001b[0m images\u001b[39m=\u001b[39mbdata\u001b[39m.\u001b[39mwsi_brain()\n",
      "\u001b[0;31mImportError\u001b[0m: cannot import name 'data' from 'basicpy' (/Users/fukai/.pyenv/versions/3.9.7/lib/python3.9/site-packages/basicpy/__init__.py)"
     ]
    }
   ],
   "source": [
    "from basicpy import BaSiC\n",
    "from basicpy import data as bdata\n",
    "from matplotlib import pyplot as plt\n",
    "\n",
    "images=bdata.wsi_brain()\n",
    "basic =BaSiC()\n",
    "basic.fit(images)\n",
    "\n",
    "fig,axes = plt.subplots(1,3,figsize=(10,5))\n",
    "axes[0].imshow(basic.flatfield)\n",
    "axes[1].imshow(basic.darkfield)"
   ]
  },
  {
   "cell_type": "code",
   "execution_count": 9,
   "metadata": {},
   "outputs": [
    {
     "name": "stdout",
     "output_type": "stream",
     "text": [
      "__init__.py      \u001b[34m__pycache__\u001b[m\u001b[m      basicpy.py       types.py\n",
      "__main__.py      _jax_routines.py \u001b[34mtools\u001b[m\u001b[m\n"
     ]
    }
   ],
   "source": [
    "!ls /Users/fukai/.pyenv/versions/3.9.7/lib/python3.9/site-packages/basicpy/"
   ]
  },
  {
   "cell_type": "code",
   "execution_count": null,
   "metadata": {},
   "outputs": [],
   "source": []
  }
 ],
 "metadata": {
  "interpreter": {
   "hash": "b4774d7a9c60e8776bdd0827aa75a1dc1c13886d92e222f82e2571adfd271cb7"
  },
  "kernelspec": {
   "display_name": "Python 3.9.7 64-bit ('3.9.7')",
   "language": "python",
   "name": "python3"
  },
  "language_info": {
   "codemirror_mode": {
    "name": "ipython",
    "version": 3
   },
   "file_extension": ".py",
   "mimetype": "text/x-python",
   "name": "python",
   "nbconvert_exporter": "python",
   "pygments_lexer": "ipython3",
   "version": "3.9.7"
  },
  "orig_nbformat": 4
 },
 "nbformat": 4,
 "nbformat_minor": 2
}
