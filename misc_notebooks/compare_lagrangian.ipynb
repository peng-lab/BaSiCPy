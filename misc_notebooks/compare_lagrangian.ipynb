{
 "cells": [
  {
   "cell_type": "code",
   "execution_count": 2,
   "metadata": {},
   "outputs": [
    {
     "name": "stdout",
     "output_type": "stream",
     "text": [
      "Found existing installation: BaSiCPy 0.2.1.dev0\n",
      "Uninstalling BaSiCPy-0.2.1.dev0:\n",
      "  Successfully uninstalled BaSiCPy-0.2.1.dev0\n",
      "Obtaining file:///Users/fukai/projects/BaSiCpy\n",
      "  Installing build dependencies ... \u001b[?25ldone\n",
      "\u001b[?25h  Checking if build backend supports build_editable ... \u001b[?25ldone\n",
      "\u001b[?25h  Getting requirements to build wheel ... \u001b[?25ldone\n",
      "\u001b[?25h  Preparing metadata (pyproject.toml) ... \u001b[?25ldone\n",
      "\u001b[?25hRequirement already satisfied: scikit-image in /Users/fukai/.pyenv/versions/3.10.4/envs/basicpy/lib/python3.10/site-packages (from BaSiCPy==0.2.1.dev0) (0.19.3)\n",
      "Requirement already satisfied: scipy in /Users/fukai/.pyenv/versions/3.10.4/envs/basicpy/lib/python3.10/site-packages (from BaSiCPy==0.2.1.dev0) (1.8.1)\n",
      "Requirement already satisfied: pydantic>=1.9.1 in /Users/fukai/.pyenv/versions/3.10.4/envs/basicpy/lib/python3.10/site-packages (from BaSiCPy==0.2.1.dev0) (1.9.1)\n",
      "Requirement already satisfied: pooch in /Users/fukai/.pyenv/versions/3.10.4/envs/basicpy/lib/python3.10/site-packages (from BaSiCPy==0.2.1.dev0) (1.6.0)\n",
      "Requirement already satisfied: jaxlib in /Users/fukai/.pyenv/versions/3.10.4/envs/basicpy/lib/python3.10/site-packages (from BaSiCPy==0.2.1.dev0) (0.3.10)\n",
      "Requirement already satisfied: jax in /Users/fukai/.pyenv/versions/3.10.4/envs/basicpy/lib/python3.10/site-packages (from BaSiCPy==0.2.1.dev0) (0.3.13)\n",
      "Requirement already satisfied: numpy in /Users/fukai/.pyenv/versions/3.10.4/envs/basicpy/lib/python3.10/site-packages (from BaSiCPy==0.2.1.dev0) (1.23.0)\n",
      "Requirement already satisfied: typing-extensions>=3.7.4.3 in /Users/fukai/.pyenv/versions/3.10.4/envs/basicpy/lib/python3.10/site-packages (from pydantic>=1.9.1->BaSiCPy==0.2.1.dev0) (4.2.0)\n",
      "Requirement already satisfied: absl-py in /Users/fukai/.pyenv/versions/3.10.4/envs/basicpy/lib/python3.10/site-packages (from jax->BaSiCPy==0.2.1.dev0) (1.1.0)\n",
      "Requirement already satisfied: opt_einsum in /Users/fukai/.pyenv/versions/3.10.4/envs/basicpy/lib/python3.10/site-packages (from jax->BaSiCPy==0.2.1.dev0) (3.3.0)\n",
      "Requirement already satisfied: flatbuffers<3.0,>=1.12 in /Users/fukai/.pyenv/versions/3.10.4/envs/basicpy/lib/python3.10/site-packages (from jaxlib->BaSiCPy==0.2.1.dev0) (2.0)\n",
      "Requirement already satisfied: appdirs>=1.3.0 in /Users/fukai/.pyenv/versions/3.10.4/envs/basicpy/lib/python3.10/site-packages (from pooch->BaSiCPy==0.2.1.dev0) (1.4.4)\n",
      "Requirement already satisfied: requests>=2.19.0 in /Users/fukai/.pyenv/versions/3.10.4/envs/basicpy/lib/python3.10/site-packages (from pooch->BaSiCPy==0.2.1.dev0) (2.28.0)\n",
      "Requirement already satisfied: packaging>=20.0 in /Users/fukai/.pyenv/versions/3.10.4/envs/basicpy/lib/python3.10/site-packages (from pooch->BaSiCPy==0.2.1.dev0) (21.3)\n",
      "Requirement already satisfied: PyWavelets>=1.1.1 in /Users/fukai/.pyenv/versions/3.10.4/envs/basicpy/lib/python3.10/site-packages (from scikit-image->BaSiCPy==0.2.1.dev0) (1.3.0)\n",
      "Requirement already satisfied: imageio>=2.4.1 in /Users/fukai/.pyenv/versions/3.10.4/envs/basicpy/lib/python3.10/site-packages (from scikit-image->BaSiCPy==0.2.1.dev0) (2.19.3)\n",
      "Requirement already satisfied: pillow!=7.1.0,!=7.1.1,!=8.3.0,>=6.1.0 in /Users/fukai/.pyenv/versions/3.10.4/envs/basicpy/lib/python3.10/site-packages (from scikit-image->BaSiCPy==0.2.1.dev0) (9.1.1)\n",
      "Requirement already satisfied: networkx>=2.2 in /Users/fukai/.pyenv/versions/3.10.4/envs/basicpy/lib/python3.10/site-packages (from scikit-image->BaSiCPy==0.2.1.dev0) (2.8.4)\n",
      "Requirement already satisfied: tifffile>=2019.7.26 in /Users/fukai/.pyenv/versions/3.10.4/envs/basicpy/lib/python3.10/site-packages (from scikit-image->BaSiCPy==0.2.1.dev0) (2022.5.4)\n",
      "Requirement already satisfied: pyparsing!=3.0.5,>=2.0.2 in /Users/fukai/.pyenv/versions/3.10.4/envs/basicpy/lib/python3.10/site-packages (from packaging>=20.0->pooch->BaSiCPy==0.2.1.dev0) (3.0.9)\n",
      "Requirement already satisfied: charset-normalizer~=2.0.0 in /Users/fukai/.pyenv/versions/3.10.4/envs/basicpy/lib/python3.10/site-packages (from requests>=2.19.0->pooch->BaSiCPy==0.2.1.dev0) (2.0.12)\n",
      "Requirement already satisfied: certifi>=2017.4.17 in /Users/fukai/.pyenv/versions/3.10.4/envs/basicpy/lib/python3.10/site-packages (from requests>=2.19.0->pooch->BaSiCPy==0.2.1.dev0) (2022.6.15)\n",
      "Requirement already satisfied: idna<4,>=2.5 in /Users/fukai/.pyenv/versions/3.10.4/envs/basicpy/lib/python3.10/site-packages (from requests>=2.19.0->pooch->BaSiCPy==0.2.1.dev0) (3.3)\n",
      "Requirement already satisfied: urllib3<1.27,>=1.21.1 in /Users/fukai/.pyenv/versions/3.10.4/envs/basicpy/lib/python3.10/site-packages (from requests>=2.19.0->pooch->BaSiCPy==0.2.1.dev0) (1.26.9)\n",
      "Installing collected packages: BaSiCPy\n",
      "  Running setup.py develop for BaSiCPy\n",
      "Successfully installed BaSiCPy-0.2.1.dev0\n",
      "\u001b[33mWARNING: You are using pip version 22.0.4; however, version 22.1.2 is available.\n",
      "You should consider upgrading via the '/Users/fukai/.pyenv/versions/3.10.4/envs/basicpy/bin/python3.10 -m pip install --upgrade pip' command.\u001b[0m\u001b[33m\n",
      "\u001b[0m"
     ]
    }
   ],
   "source": [
    "!pip uninstall basicpy -y\n",
    "!pip install -e ../"
   ]
  },
  {
   "cell_type": "code",
   "execution_count": 84,
   "metadata": {},
   "outputs": [
    {
     "name": "stdout",
     "output_type": "stream",
     "text": [
      "Collecting pandas\n",
      "  Downloading pandas-1.4.3-cp310-cp310-macosx_11_0_arm64.whl (10.4 MB)\n",
      "\u001b[2K     \u001b[90m━━━━━━━━━━━━━━━━━━━━━━━━━━━━━━━━━━━━━━━━\u001b[0m \u001b[32m10.4/10.4 MB\u001b[0m \u001b[31m27.5 MB/s\u001b[0m eta \u001b[36m0:00:00\u001b[0m00:01\u001b[0m0:01\u001b[0m\n",
      "\u001b[?25hRequirement already satisfied: numpy>=1.21.0 in /Users/fukai/.pyenv/versions/3.10.4/envs/basicpy/lib/python3.10/site-packages (from pandas) (1.23.0)\n",
      "Requirement already satisfied: python-dateutil>=2.8.1 in /Users/fukai/.pyenv/versions/3.10.4/envs/basicpy/lib/python3.10/site-packages (from pandas) (2.8.2)\n",
      "Collecting pytz>=2020.1\n",
      "  Downloading pytz-2022.1-py2.py3-none-any.whl (503 kB)\n",
      "\u001b[2K     \u001b[90m━━━━━━━━━━━━━━━━━━━━━━━━━━━━━━━━━━━━━━━\u001b[0m \u001b[32m503.5/503.5 KB\u001b[0m \u001b[31m9.5 MB/s\u001b[0m eta \u001b[36m0:00:00\u001b[0m00:01\u001b[0m\n",
      "\u001b[?25hRequirement already satisfied: six>=1.5 in /Users/fukai/.pyenv/versions/3.10.4/envs/basicpy/lib/python3.10/site-packages (from python-dateutil>=2.8.1->pandas) (1.16.0)\n",
      "Installing collected packages: pytz, pandas\n",
      "Successfully installed pandas-1.4.3 pytz-2022.1\n",
      "\u001b[33mWARNING: You are using pip version 22.0.4; however, version 22.1.2 is available.\n",
      "You should consider upgrading via the '/Users/fukai/.pyenv/versions/3.10.4/envs/basicpy/bin/python3.10 -m pip install --upgrade pip' command.\u001b[0m\u001b[33m\n",
      "\u001b[0m"
     ]
    }
   ],
   "source": [
    "!pip install pandas"
   ]
  },
  {
   "cell_type": "code",
   "execution_count": 85,
   "metadata": {},
   "outputs": [],
   "source": [
    "from basicpy import BaSiC\n",
    "from basicpy import datasets as bdata\n",
    "import numpy as np\n",
    "from basicpy.tools.dct_tools import JaxDCT\n",
    "from matplotlib import pyplot as plt\n",
    "import pandas as pd"
   ]
  },
  {
   "cell_type": "code",
   "execution_count": 35,
   "metadata": {},
   "outputs": [],
   "source": [
    "data = bdata.wsi_brain()"
   ]
  },
  {
   "cell_type": "code",
   "execution_count": 92,
   "metadata": {},
   "outputs": [
    {
     "name": "stderr",
     "output_type": "stream",
     "text": [
      "INFO:basicpy.basicpy:Initializing BaSiC 11822345856 with parameters: \n",
      "fitting_mode: approximate\n",
      "working_size: None\n",
      "get_darkfield: False\n",
      "max_reweight_iterations: 1\n",
      "\n",
      "INFO:basicpy.basicpy:Initializing BaSiC 11822348256 with parameters: \n",
      "fitting_mode: approximate\n",
      "working_size: None\n",
      "get_darkfield: True\n",
      "max_reweight_iterations: 1\n",
      "\n",
      "INFO:basicpy.basicpy:Initializing BaSiC 11633866720 with parameters: \n",
      "fitting_mode: ladmap\n",
      "working_size: None\n",
      "get_darkfield: False\n",
      "lambda_flatfield_coef: 0.00125\n",
      "lambda_darkfield_coef: 0.2\n",
      "lambda_darkfield_sparse_coef: 0.2\n",
      "max_reweight_iterations: 1\n",
      "\n",
      "INFO:basicpy.basicpy:Initializing BaSiC 11822349216 with parameters: \n",
      "fitting_mode: ladmap\n",
      "working_size: None\n",
      "get_darkfield: True\n",
      "lambda_flatfield_coef: 0.00125\n",
      "lambda_darkfield_coef: 0.2\n",
      "lambda_darkfield_sparse_coef: 0.2\n",
      "max_reweight_iterations: 1\n",
      "\n",
      "INFO:basicpy.basicpy:=== BaSiC fit started ===\n",
      "INFO:basicpy.basicpy:reweighting iteration 0\n",
      "INFO:basicpy.basicpy:single-step optimization score: 9.388494390805135e-07.\n",
      "INFO:basicpy.basicpy:mean of S: 1072.7109375.\n",
      "INFO:basicpy.basicpy:Iteration 0 finished.\n",
      "WARNING:basicpy.basicpy:Reweighting did not converge.\n",
      "INFO:basicpy.basicpy:=== BaSiC fit finished in 0.5980752920004306 seconds ===\n",
      "INFO:basicpy.basicpy:=== BaSiC fit started ===\n"
     ]
    },
    {
     "name": "stdout",
     "output_type": "stream",
     "text": [
      "[DeviceArray(0.88837737, dtype=float32), DeviceArray(0.17767547, dtype=float32), DeviceArray(0.17767547, dtype=float32)]\n",
      "[1097715000.0, DeviceArray(137871.5, dtype=float32), DeviceArray(0., dtype=float32), DeviceArray(0., dtype=float32)]\n",
      "1.0978528\n"
     ]
    },
    {
     "name": "stderr",
     "output_type": "stream",
     "text": [
      "INFO:basicpy.basicpy:reweighting iteration 0\n",
      "INFO:basicpy.basicpy:single-step optimization score: 6.144786652839684e-07.\n",
      "INFO:basicpy.basicpy:mean of S: 1071.8890380859375.\n",
      "INFO:basicpy.basicpy:Iteration 0 finished.\n",
      "WARNING:basicpy.basicpy:Reweighting did not converge.\n",
      "INFO:basicpy.basicpy:=== BaSiC fit finished in 0.6472649579991412 seconds ===\n",
      "INFO:basicpy.basicpy:=== BaSiC fit started ===\n",
      "INFO:basicpy.basicpy:reweighting iteration 0\n"
     ]
    },
    {
     "name": "stdout",
     "output_type": "stream",
     "text": [
      "[DeviceArray(0.88837737, dtype=float32), DeviceArray(0.17767547, dtype=float32), DeviceArray(0.17767547, dtype=float32)]\n",
      "[1114304500.0, DeviceArray(140707.8, dtype=float32), DeviceArray(1573.7855, dtype=float32), DeviceArray(17282.393, dtype=float32)]\n",
      "1.114464\n"
     ]
    },
    {
     "name": "stderr",
     "output_type": "stream",
     "text": [
      "INFO:basicpy.basicpy:single-step optimization score: 6.781623369533918e-07.\n",
      "INFO:basicpy.basicpy:mean of S: 1.0.\n",
      "INFO:basicpy.basicpy:Iteration 0 finished.\n",
      "WARNING:basicpy.basicpy:Reweighting did not converge.\n",
      "INFO:basicpy.basicpy:=== BaSiC fit finished in 0.4205319590000727 seconds ===\n",
      "INFO:basicpy.basicpy:=== BaSiC fit started ===\n",
      "INFO:basicpy.basicpy:reweighting iteration 0\n"
     ]
    },
    {
     "name": "stdout",
     "output_type": "stream",
     "text": [
      "[DeviceArray(0.8883773, dtype=float32), DeviceArray(0.17767547, dtype=float32), DeviceArray(0.17767547, dtype=float32)]\n",
      "[1092929300.0, DeviceArray(367.7328, dtype=float32), DeviceArray(0., dtype=float32), DeviceArray(0., dtype=float32)]\n",
      "1.0929297\n"
     ]
    },
    {
     "name": "stderr",
     "output_type": "stream",
     "text": [
      "INFO:basicpy.basicpy:single-step optimization score: 7.224989531096071e-07.\n",
      "INFO:basicpy.basicpy:mean of S: 1.0.\n",
      "INFO:basicpy.basicpy:Iteration 0 finished.\n",
      "WARNING:basicpy.basicpy:Reweighting did not converge.\n",
      "INFO:basicpy.basicpy:=== BaSiC fit finished in 0.5447777500012307 seconds ===\n",
      "INFO:basicpy.basicpy:=== BaSiC fit started ===\n"
     ]
    },
    {
     "name": "stdout",
     "output_type": "stream",
     "text": [
      "[DeviceArray(0.8883773, dtype=float32), DeviceArray(0.17767547, dtype=float32), DeviceArray(0.17767547, dtype=float32)]\n",
      "[1069233150.0, DeviceArray(1228.6162, dtype=float32), DeviceArray(158522.72, dtype=float32), DeviceArray(614205.7, dtype=float32)]\n",
      "1.0700071\n"
     ]
    },
    {
     "name": "stderr",
     "output_type": "stream",
     "text": [
      "INFO:basicpy.basicpy:reweighting iteration 0\n",
      "INFO:basicpy.basicpy:single-step optimization score: 6.580406193279487e-07.\n",
      "INFO:basicpy.basicpy:mean of S: 178.64749145507812.\n",
      "INFO:basicpy.basicpy:Iteration 0 finished.\n",
      "WARNING:basicpy.basicpy:Reweighting did not converge.\n",
      "INFO:basicpy.basicpy:=== BaSiC fit finished in 1.9893961249981658 seconds ===\n"
     ]
    },
    {
     "name": "stdout",
     "output_type": "stream",
     "text": [
      "[DeviceArray(0.5591964, dtype=float32), DeviceArray(0.11183928, dtype=float32), DeviceArray(0.11183928, dtype=float32)]\n"
     ]
    },
    {
     "name": "stderr",
     "output_type": "stream",
     "text": [
      "INFO:basicpy.basicpy:=== BaSiC fit started ===\n",
      "INFO:basicpy.basicpy:reweighting iteration 0\n"
     ]
    },
    {
     "name": "stdout",
     "output_type": "stream",
     "text": [
      "[5935496.0, DeviceArray(31583.922, dtype=float32), DeviceArray(0., dtype=float32), DeviceArray(0., dtype=float32)]\n",
      "0.00596708\n"
     ]
    },
    {
     "name": "stderr",
     "output_type": "stream",
     "text": [
      "INFO:basicpy.basicpy:single-step optimization score: 9.123245945374947e-07.\n",
      "INFO:basicpy.basicpy:mean of S: 178.63385009765625.\n",
      "INFO:basicpy.basicpy:Iteration 0 finished.\n",
      "WARNING:basicpy.basicpy:Reweighting did not converge.\n",
      "INFO:basicpy.basicpy:=== BaSiC fit finished in 1.9565203339989239 seconds ===\n",
      "INFO:basicpy.basicpy:=== BaSiC fit started ===\n",
      "INFO:basicpy.basicpy:reweighting iteration 0\n"
     ]
    },
    {
     "name": "stdout",
     "output_type": "stream",
     "text": [
      "[DeviceArray(0.5591964, dtype=float32), DeviceArray(0.11183928, dtype=float32), DeviceArray(0.11183928, dtype=float32)]\n",
      "[5875723.5, DeviceArray(30482.645, dtype=float32), DeviceArray(1104.7128, dtype=float32), DeviceArray(3344.0251, dtype=float32)]\n",
      "0.0059106546\n"
     ]
    },
    {
     "name": "stderr",
     "output_type": "stream",
     "text": [
      "INFO:basicpy.basicpy:single-step optimization score: 8.507836923854484e-07.\n",
      "INFO:basicpy.basicpy:mean of S: 1.0000001192092896.\n",
      "INFO:basicpy.basicpy:Iteration 0 finished.\n",
      "WARNING:basicpy.basicpy:Reweighting did not converge.\n",
      "INFO:basicpy.basicpy:=== BaSiC fit finished in 1.2191172909988381 seconds ===\n",
      "INFO:basicpy.basicpy:=== BaSiC fit started ===\n",
      "INFO:basicpy.basicpy:reweighting iteration 0\n"
     ]
    },
    {
     "name": "stdout",
     "output_type": "stream",
     "text": [
      "[DeviceArray(0.5591964, dtype=float32), DeviceArray(0.11183929, dtype=float32), DeviceArray(0.11183929, dtype=float32)]\n",
      "[5682540.0, DeviceArray(236.56126, dtype=float32), DeviceArray(0., dtype=float32), DeviceArray(0., dtype=float32)]\n",
      "0.0056827767\n"
     ]
    },
    {
     "name": "stderr",
     "output_type": "stream",
     "text": [
      "INFO:basicpy.basicpy:single-step optimization score: 6.924910849193111e-07.\n",
      "INFO:basicpy.basicpy:mean of S: 1.000000238418579.\n",
      "INFO:basicpy.basicpy:Iteration 0 finished.\n",
      "WARNING:basicpy.basicpy:Reweighting did not converge.\n",
      "INFO:basicpy.basicpy:=== BaSiC fit finished in 1.6528765830007615 seconds ===\n",
      "INFO:basicpy.basicpy:=== BaSiC fit started ===\n"
     ]
    },
    {
     "name": "stdout",
     "output_type": "stream",
     "text": [
      "[DeviceArray(0.5591964, dtype=float32), DeviceArray(0.11183929, dtype=float32), DeviceArray(0.11183929, dtype=float32)]\n",
      "[5683148.5, DeviceArray(241.17892, dtype=float32), DeviceArray(1488.1428, dtype=float32), DeviceArray(1265.7284, dtype=float32)]\n",
      "0.005686143\n"
     ]
    },
    {
     "name": "stderr",
     "output_type": "stream",
     "text": [
      "INFO:basicpy.basicpy:reweighting iteration 0\n",
      "INFO:basicpy.basicpy:single-step optimization score: 8.630402135167969e-07.\n",
      "INFO:basicpy.basicpy:mean of S: 52.19914627075195.\n",
      "INFO:basicpy.basicpy:Iteration 0 finished.\n",
      "WARNING:basicpy.basicpy:Reweighting did not converge.\n",
      "INFO:basicpy.basicpy:=== BaSiC fit finished in 2.1149825419997796 seconds ===\n",
      "INFO:basicpy.basicpy:=== BaSiC fit started ===\n"
     ]
    },
    {
     "name": "stdout",
     "output_type": "stream",
     "text": [
      "[DeviceArray(0.68333274, dtype=float32), DeviceArray(0.13666655, dtype=float32), DeviceArray(0.13666654, dtype=float32)]\n",
      "[10502139.0, DeviceArray(8912.243, dtype=float32), DeviceArray(0., dtype=float32), DeviceArray(0., dtype=float32)]\n",
      "0.010511051\n"
     ]
    },
    {
     "name": "stderr",
     "output_type": "stream",
     "text": [
      "INFO:basicpy.basicpy:reweighting iteration 0\n",
      "INFO:basicpy.basicpy:single-step optimization score: 6.546499093929015e-07.\n",
      "INFO:basicpy.basicpy:mean of S: 52.4122314453125.\n",
      "INFO:basicpy.basicpy:Iteration 0 finished.\n",
      "WARNING:basicpy.basicpy:Reweighting did not converge.\n",
      "INFO:basicpy.basicpy:=== BaSiC fit finished in 2.6318746249999094 seconds ===\n",
      "INFO:basicpy.basicpy:=== BaSiC fit started ===\n"
     ]
    },
    {
     "name": "stdout",
     "output_type": "stream",
     "text": [
      "[DeviceArray(0.68333274, dtype=float32), DeviceArray(0.13666655, dtype=float32), DeviceArray(0.13666654, dtype=float32)]\n",
      "[7854741.5, DeviceArray(8076.113, dtype=float32), DeviceArray(1022.9055, dtype=float32), DeviceArray(9133.153, dtype=float32)]\n",
      "0.007872974\n"
     ]
    },
    {
     "name": "stderr",
     "output_type": "stream",
     "text": [
      "INFO:basicpy.basicpy:reweighting iteration 0\n",
      "INFO:basicpy.basicpy:single-step optimization score: 6.27749614068307e-07.\n",
      "INFO:basicpy.basicpy:mean of S: 1.0.\n",
      "INFO:basicpy.basicpy:Iteration 0 finished.\n",
      "WARNING:basicpy.basicpy:Reweighting did not converge.\n",
      "INFO:basicpy.basicpy:=== BaSiC fit finished in 1.6414584170015587 seconds ===\n",
      "INFO:basicpy.basicpy:=== BaSiC fit started ===\n"
     ]
    },
    {
     "name": "stdout",
     "output_type": "stream",
     "text": [
      "[DeviceArray(0.68333274, dtype=float32), DeviceArray(0.13666655, dtype=float32), DeviceArray(0.13666655, dtype=float32)]\n",
      "[10028211.0, DeviceArray(332.27722, dtype=float32), DeviceArray(0., dtype=float32), DeviceArray(0., dtype=float32)]\n",
      "0.010028543\n"
     ]
    },
    {
     "name": "stderr",
     "output_type": "stream",
     "text": [
      "INFO:basicpy.basicpy:reweighting iteration 0\n",
      "INFO:basicpy.basicpy:single-step optimization score: 7.508190833505068e-07.\n",
      "INFO:basicpy.basicpy:mean of S: 1.0.\n",
      "INFO:basicpy.basicpy:Iteration 0 finished.\n",
      "WARNING:basicpy.basicpy:Reweighting did not converge.\n",
      "INFO:basicpy.basicpy:=== BaSiC fit finished in 2.1344744580019324 seconds ===\n",
      "INFO:basicpy.basicpy:=== BaSiC fit started ===\n"
     ]
    },
    {
     "name": "stdout",
     "output_type": "stream",
     "text": [
      "[DeviceArray(0.68333274, dtype=float32), DeviceArray(0.13666655, dtype=float32), DeviceArray(0.13666655, dtype=float32)]\n",
      "[6954299.5, DeviceArray(623.07355, dtype=float32), DeviceArray(5349.1445, dtype=float32), DeviceArray(17055.646, dtype=float32)]\n",
      "0.006977327\n"
     ]
    },
    {
     "name": "stderr",
     "output_type": "stream",
     "text": [
      "INFO:basicpy.basicpy:reweighting iteration 0\n",
      "INFO:basicpy.basicpy:single-step optimization score: 8.241901809924457e-07.\n",
      "INFO:basicpy.basicpy:mean of S: 87.55728912353516.\n",
      "INFO:basicpy.basicpy:Iteration 0 finished.\n",
      "WARNING:basicpy.basicpy:Reweighting did not converge.\n",
      "INFO:basicpy.basicpy:=== BaSiC fit finished in 2.1858276250022755 seconds ===\n",
      "INFO:basicpy.basicpy:=== BaSiC fit started ===\n"
     ]
    },
    {
     "name": "stdout",
     "output_type": "stream",
     "text": [
      "[DeviceArray(0.580258, dtype=float32), DeviceArray(0.1160516, dtype=float32), DeviceArray(0.1160516, dtype=float32)]\n",
      "[37655468.0, DeviceArray(16078.783, dtype=float32), DeviceArray(0., dtype=float32), DeviceArray(0., dtype=float32)]\n",
      "0.037671547\n"
     ]
    },
    {
     "name": "stderr",
     "output_type": "stream",
     "text": [
      "INFO:basicpy.basicpy:reweighting iteration 0\n",
      "INFO:basicpy.basicpy:single-step optimization score: 8.889134051059955e-07.\n",
      "INFO:basicpy.basicpy:mean of S: 87.4671859741211.\n",
      "INFO:basicpy.basicpy:Iteration 0 finished.\n",
      "WARNING:basicpy.basicpy:Reweighting did not converge.\n",
      "INFO:basicpy.basicpy:=== BaSiC fit finished in 2.696189249996678 seconds ===\n",
      "INFO:basicpy.basicpy:=== BaSiC fit started ===\n"
     ]
    },
    {
     "name": "stdout",
     "output_type": "stream",
     "text": [
      "[DeviceArray(0.580258, dtype=float32), DeviceArray(0.1160516, dtype=float32), DeviceArray(0.1160516, dtype=float32)]\n",
      "[35568796.0, DeviceArray(14966.719, dtype=float32), DeviceArray(626.95123, dtype=float32), DeviceArray(18257.42, dtype=float32)]\n",
      "0.035602648\n"
     ]
    },
    {
     "name": "stderr",
     "output_type": "stream",
     "text": [
      "INFO:basicpy.basicpy:reweighting iteration 0\n",
      "INFO:basicpy.basicpy:single-step optimization score: 6.676244765912998e-07.\n",
      "INFO:basicpy.basicpy:mean of S: 1.000000238418579.\n",
      "INFO:basicpy.basicpy:Iteration 0 finished.\n",
      "WARNING:basicpy.basicpy:Reweighting did not converge.\n",
      "INFO:basicpy.basicpy:=== BaSiC fit finished in 1.6325329170031182 seconds ===\n",
      "INFO:basicpy.basicpy:=== BaSiC fit started ===\n"
     ]
    },
    {
     "name": "stdout",
     "output_type": "stream",
     "text": [
      "[DeviceArray(0.580258, dtype=float32), DeviceArray(0.11605161, dtype=float32), DeviceArray(0.11605161, dtype=float32)]\n",
      "[34491276.0, DeviceArray(287.81433, dtype=float32), DeviceArray(0., dtype=float32), DeviceArray(0., dtype=float32)]\n",
      "0.034491565\n"
     ]
    },
    {
     "name": "stderr",
     "output_type": "stream",
     "text": [
      "INFO:basicpy.basicpy:reweighting iteration 0\n",
      "INFO:basicpy.basicpy:single-step optimization score: 7.562906034763728e-07.\n",
      "INFO:basicpy.basicpy:mean of S: 1.000000238418579.\n",
      "INFO:basicpy.basicpy:Iteration 0 finished.\n",
      "WARNING:basicpy.basicpy:Reweighting did not converge.\n",
      "INFO:basicpy.basicpy:=== BaSiC fit finished in 2.159746041001199 seconds ===\n",
      "INFO:basicpy.basicpy:=== BaSiC fit started ===\n",
      "INFO:basicpy.basicpy:reweighting iteration 0\n"
     ]
    },
    {
     "name": "stdout",
     "output_type": "stream",
     "text": [
      "[DeviceArray(0.580258, dtype=float32), DeviceArray(0.11605161, dtype=float32), DeviceArray(0.11605161, dtype=float32)]\n",
      "[33866320.0, DeviceArray(291.8008, dtype=float32), DeviceArray(947.2467, dtype=float32), DeviceArray(12876.39, dtype=float32)]\n",
      "0.033880435\n"
     ]
    },
    {
     "name": "stderr",
     "output_type": "stream",
     "text": [
      "INFO:basicpy.basicpy:single-step optimization score: 8.970346243586391e-07.\n",
      "INFO:basicpy.basicpy:mean of S: 2725.49169921875.\n",
      "INFO:basicpy.basicpy:Iteration 0 finished.\n",
      "WARNING:basicpy.basicpy:Reweighting did not converge.\n",
      "INFO:basicpy.basicpy:=== BaSiC fit finished in 0.21192825000252924 seconds ===\n",
      "INFO:basicpy.basicpy:=== BaSiC fit started ===\n",
      "INFO:basicpy.basicpy:reweighting iteration 0\n"
     ]
    },
    {
     "name": "stdout",
     "output_type": "stream",
     "text": [
      "[DeviceArray(0.4547477, dtype=float32), DeviceArray(0.09094954, dtype=float32), DeviceArray(0.09094954, dtype=float32)]\n",
      "[717007940.0, DeviceArray(234392.73, dtype=float32), DeviceArray(0., dtype=float32), DeviceArray(0., dtype=float32)]\n",
      "0.7172423\n"
     ]
    },
    {
     "name": "stderr",
     "output_type": "stream",
     "text": [
      "INFO:basicpy.basicpy:single-step optimization score: 5.741670179304492e-07.\n",
      "INFO:basicpy.basicpy:mean of S: 2711.4912109375.\n",
      "INFO:basicpy.basicpy:Iteration 0 finished.\n",
      "WARNING:basicpy.basicpy:Reweighting did not converge.\n",
      "INFO:basicpy.basicpy:=== BaSiC fit finished in 0.2768333749991143 seconds ===\n",
      "INFO:basicpy.basicpy:=== BaSiC fit started ===\n",
      "INFO:basicpy.basicpy:reweighting iteration 0\n",
      "INFO:basicpy.basicpy:single-step optimization score: 6.892511805745016e-07.\n",
      "INFO:basicpy.basicpy:mean of S: 0.9999999403953552.\n",
      "INFO:basicpy.basicpy:Iteration 0 finished.\n",
      "WARNING:basicpy.basicpy:Reweighting did not converge.\n",
      "INFO:basicpy.basicpy:=== BaSiC fit finished in 0.16380287499850965 seconds ===\n"
     ]
    },
    {
     "name": "stdout",
     "output_type": "stream",
     "text": [
      "[DeviceArray(0.4547477, dtype=float32), DeviceArray(0.09094954, dtype=float32), DeviceArray(0.09094954, dtype=float32)]\n",
      "[549272770.0, DeviceArray(263714.6, dtype=float32), DeviceArray(10036.224, dtype=float32), DeviceArray(256731.38, dtype=float32)]\n",
      "0.54980326\n"
     ]
    },
    {
     "name": "stderr",
     "output_type": "stream",
     "text": [
      "INFO:basicpy.basicpy:=== BaSiC fit started ===\n",
      "INFO:basicpy.basicpy:reweighting iteration 0\n"
     ]
    },
    {
     "name": "stdout",
     "output_type": "stream",
     "text": [
      "[DeviceArray(0.45474768, dtype=float32), DeviceArray(0.09094954, dtype=float32), DeviceArray(0.09094954, dtype=float32)]\n",
      "[609824450.0, DeviceArray(151.42665, dtype=float32), DeviceArray(0., dtype=float32), DeviceArray(0., dtype=float32)]\n",
      "0.6098246\n"
     ]
    },
    {
     "name": "stderr",
     "output_type": "stream",
     "text": [
      "INFO:basicpy.basicpy:single-step optimization score: 8.753951874496124e-07.\n",
      "INFO:basicpy.basicpy:mean of S: 1.0.\n",
      "INFO:basicpy.basicpy:Iteration 0 finished.\n",
      "WARNING:basicpy.basicpy:Reweighting did not converge.\n",
      "INFO:basicpy.basicpy:=== BaSiC fit finished in 0.23129487500045798 seconds ===\n"
     ]
    },
    {
     "name": "stdout",
     "output_type": "stream",
     "text": [
      "[DeviceArray(0.45474768, dtype=float32), DeviceArray(0.09094954, dtype=float32), DeviceArray(0.09094954, dtype=float32)]\n",
      "[532090000.0, DeviceArray(175.75551, dtype=float32), DeviceArray(25433.256, dtype=float32), DeviceArray(293652.53, dtype=float32)]\n",
      "0.53240925\n"
     ]
    }
   ],
   "source": [
    "basic_approximates = [\n",
    "    BaSiC(\n",
    "        fitting_mode=\"approximate\",\n",
    "        working_size=None,\n",
    "        get_darkfield=d,\n",
    "        max_reweight_iterations=1,\n",
    "    )\n",
    "    for d in [False, True]\n",
    "]\n",
    "\n",
    "basic_ladmaps = [\n",
    "    BaSiC(\n",
    "        fitting_mode=\"ladmap\",\n",
    "        working_size=None,\n",
    "        get_darkfield=d,\n",
    "        lambda_flatfield_coef=100 / 80000,\n",
    "        lambda_darkfield_coef=0.2,\n",
    "        lambda_darkfield_sparse_coef=0.2,\n",
    "        max_reweight_iterations=1,\n",
    "    )\n",
    "    for d in [False, True]\n",
    "]\n",
    "\n",
    "result_df = []\n",
    "for data_key in bdata.RESCALED_TEST_DATA_PROPS.keys():\n",
    "    data = bdata.fetch(data_key)\n",
    "    for b in basic_approximates + basic_ladmaps:\n",
    "        b.fit(data)\n",
    "        res = (\n",
    "            data\n",
    "            - b.baseline[:, np.newaxis, np.newaxis] * b.flatfield[np.newaxis]\n",
    "            - b.darkfield\n",
    "        )\n",
    "        assert np.allclose(res, b._residual, atol=100000, rtol=1e-2)\n",
    "        print(\n",
    "            [\n",
    "                b._lambda_flatfield,\n",
    "                b._lambda_darkfield,\n",
    "                b._lambda_darkfield_sparse,\n",
    "            ]\n",
    "        )\n",
    "        lagrangians = [\n",
    "            np.sum(np.abs(res)),\n",
    "            b._lambda_flatfield * np.sum(np.abs(JaxDCT.dct2d(b._S))),\n",
    "            b._lambda_darkfield * np.sum(np.abs(JaxDCT.dct2d(b._D_R))),\n",
    "            b._lambda_darkfield_sparse * np.sum(np.abs(b._D_R)),\n",
    "        ]\n",
    "        print(lagrangians)\n",
    "        print(sum(lagrangians) / 1e9)\n",
    "        result_df.append(\n",
    "            {\n",
    "                \"data_key\": data_key,\n",
    "                \"lagrangian_value\": np.sum(lagrangians),\n",
    "                \"fitting_mode\": b.fitting_mode,\n",
    "                \"get_darkfield\": b.get_darkfield,\n",
    "                \"lambda_flatfield\": b._lambda_flatfield,\n",
    "                \"lambda_darkfield\": b._lambda_darkfield,\n",
    "                \"lambda_darkfield_sparse\": b._lambda_darkfield_sparse,\n",
    "            }\n",
    "        )\n",
    "result_df = pd.DataFrame.from_records(result_df)"
   ]
  },
  {
   "cell_type": "code",
   "execution_count": 111,
   "metadata": {},
   "outputs": [
    {
     "data": {
      "text/html": [
       "<div>\n",
       "<style scoped>\n",
       "    .dataframe tbody tr th:only-of-type {\n",
       "        vertical-align: middle;\n",
       "    }\n",
       "\n",
       "    .dataframe tbody tr th {\n",
       "        vertical-align: top;\n",
       "    }\n",
       "\n",
       "    .dataframe thead th {\n",
       "        text-align: right;\n",
       "    }\n",
       "</style>\n",
       "<table border=\"1\" class=\"dataframe\">\n",
       "  <thead>\n",
       "    <tr style=\"text-align: right;\">\n",
       "      <th></th>\n",
       "      <th>data_key</th>\n",
       "      <th>lagrangian_value</th>\n",
       "      <th>fitting_mode</th>\n",
       "      <th>get_darkfield</th>\n",
       "      <th>lambda_flatfield</th>\n",
       "      <th>lambda_darkfield</th>\n",
       "      <th>lambda_darkfield_sparse</th>\n",
       "      <th>label</th>\n",
       "    </tr>\n",
       "  </thead>\n",
       "  <tbody>\n",
       "    <tr>\n",
       "      <th>0</th>\n",
       "      <td>cell_culture</td>\n",
       "      <td>1.097853e+09</td>\n",
       "      <td>FittingMode.approximate</td>\n",
       "      <td>False</td>\n",
       "      <td>0.88837737</td>\n",
       "      <td>0.17767547</td>\n",
       "      <td>0.17767547</td>\n",
       "      <td>approximate without darkfield</td>\n",
       "    </tr>\n",
       "    <tr>\n",
       "      <th>2</th>\n",
       "      <td>cell_culture</td>\n",
       "      <td>1.092930e+09</td>\n",
       "      <td>FittingMode.ladmap</td>\n",
       "      <td>False</td>\n",
       "      <td>0.8883773</td>\n",
       "      <td>0.17767547</td>\n",
       "      <td>0.17767547</td>\n",
       "      <td>ladmap without darkfield</td>\n",
       "    </tr>\n",
       "    <tr>\n",
       "      <th>1</th>\n",
       "      <td>cell_culture</td>\n",
       "      <td>1.114464e+09</td>\n",
       "      <td>FittingMode.approximate</td>\n",
       "      <td>True</td>\n",
       "      <td>0.88837737</td>\n",
       "      <td>0.17767547</td>\n",
       "      <td>0.17767547</td>\n",
       "      <td>approximate with darkfield</td>\n",
       "    </tr>\n",
       "    <tr>\n",
       "      <th>3</th>\n",
       "      <td>cell_culture</td>\n",
       "      <td>1.070007e+09</td>\n",
       "      <td>FittingMode.ladmap</td>\n",
       "      <td>True</td>\n",
       "      <td>0.8883773</td>\n",
       "      <td>0.17767547</td>\n",
       "      <td>0.17767547</td>\n",
       "      <td>ladmap with darkfield</td>\n",
       "    </tr>\n",
       "    <tr>\n",
       "      <th>4</th>\n",
       "      <td>timelapse_brightfield</td>\n",
       "      <td>5.967080e+06</td>\n",
       "      <td>FittingMode.approximate</td>\n",
       "      <td>False</td>\n",
       "      <td>0.5591964</td>\n",
       "      <td>0.11183928</td>\n",
       "      <td>0.11183928</td>\n",
       "      <td>approximate without darkfield</td>\n",
       "    </tr>\n",
       "    <tr>\n",
       "      <th>6</th>\n",
       "      <td>timelapse_brightfield</td>\n",
       "      <td>5.682776e+06</td>\n",
       "      <td>FittingMode.ladmap</td>\n",
       "      <td>False</td>\n",
       "      <td>0.5591964</td>\n",
       "      <td>0.11183929</td>\n",
       "      <td>0.11183929</td>\n",
       "      <td>ladmap without darkfield</td>\n",
       "    </tr>\n",
       "    <tr>\n",
       "      <th>5</th>\n",
       "      <td>timelapse_brightfield</td>\n",
       "      <td>5.910654e+06</td>\n",
       "      <td>FittingMode.approximate</td>\n",
       "      <td>True</td>\n",
       "      <td>0.5591964</td>\n",
       "      <td>0.11183928</td>\n",
       "      <td>0.11183928</td>\n",
       "      <td>approximate with darkfield</td>\n",
       "    </tr>\n",
       "    <tr>\n",
       "      <th>7</th>\n",
       "      <td>timelapse_brightfield</td>\n",
       "      <td>5.686143e+06</td>\n",
       "      <td>FittingMode.ladmap</td>\n",
       "      <td>True</td>\n",
       "      <td>0.5591964</td>\n",
       "      <td>0.11183929</td>\n",
       "      <td>0.11183929</td>\n",
       "      <td>ladmap with darkfield</td>\n",
       "    </tr>\n",
       "    <tr>\n",
       "      <th>8</th>\n",
       "      <td>timelapse_nanog</td>\n",
       "      <td>1.051105e+07</td>\n",
       "      <td>FittingMode.approximate</td>\n",
       "      <td>False</td>\n",
       "      <td>0.68333274</td>\n",
       "      <td>0.13666655</td>\n",
       "      <td>0.13666654</td>\n",
       "      <td>approximate without darkfield</td>\n",
       "    </tr>\n",
       "    <tr>\n",
       "      <th>10</th>\n",
       "      <td>timelapse_nanog</td>\n",
       "      <td>1.002854e+07</td>\n",
       "      <td>FittingMode.ladmap</td>\n",
       "      <td>False</td>\n",
       "      <td>0.68333274</td>\n",
       "      <td>0.13666655</td>\n",
       "      <td>0.13666655</td>\n",
       "      <td>ladmap without darkfield</td>\n",
       "    </tr>\n",
       "    <tr>\n",
       "      <th>9</th>\n",
       "      <td>timelapse_nanog</td>\n",
       "      <td>7.872974e+06</td>\n",
       "      <td>FittingMode.approximate</td>\n",
       "      <td>True</td>\n",
       "      <td>0.68333274</td>\n",
       "      <td>0.13666655</td>\n",
       "      <td>0.13666654</td>\n",
       "      <td>approximate with darkfield</td>\n",
       "    </tr>\n",
       "    <tr>\n",
       "      <th>11</th>\n",
       "      <td>timelapse_nanog</td>\n",
       "      <td>6.977327e+06</td>\n",
       "      <td>FittingMode.ladmap</td>\n",
       "      <td>True</td>\n",
       "      <td>0.68333274</td>\n",
       "      <td>0.13666655</td>\n",
       "      <td>0.13666655</td>\n",
       "      <td>ladmap with darkfield</td>\n",
       "    </tr>\n",
       "    <tr>\n",
       "      <th>12</th>\n",
       "      <td>timelapse_pu1</td>\n",
       "      <td>3.767155e+07</td>\n",
       "      <td>FittingMode.approximate</td>\n",
       "      <td>False</td>\n",
       "      <td>0.580258</td>\n",
       "      <td>0.1160516</td>\n",
       "      <td>0.1160516</td>\n",
       "      <td>approximate without darkfield</td>\n",
       "    </tr>\n",
       "    <tr>\n",
       "      <th>14</th>\n",
       "      <td>timelapse_pu1</td>\n",
       "      <td>3.449156e+07</td>\n",
       "      <td>FittingMode.ladmap</td>\n",
       "      <td>False</td>\n",
       "      <td>0.580258</td>\n",
       "      <td>0.11605161</td>\n",
       "      <td>0.11605161</td>\n",
       "      <td>ladmap without darkfield</td>\n",
       "    </tr>\n",
       "    <tr>\n",
       "      <th>13</th>\n",
       "      <td>timelapse_pu1</td>\n",
       "      <td>3.560265e+07</td>\n",
       "      <td>FittingMode.approximate</td>\n",
       "      <td>True</td>\n",
       "      <td>0.580258</td>\n",
       "      <td>0.1160516</td>\n",
       "      <td>0.1160516</td>\n",
       "      <td>approximate with darkfield</td>\n",
       "    </tr>\n",
       "    <tr>\n",
       "      <th>15</th>\n",
       "      <td>timelapse_pu1</td>\n",
       "      <td>3.388044e+07</td>\n",
       "      <td>FittingMode.ladmap</td>\n",
       "      <td>True</td>\n",
       "      <td>0.580258</td>\n",
       "      <td>0.11605161</td>\n",
       "      <td>0.11605161</td>\n",
       "      <td>ladmap with darkfield</td>\n",
       "    </tr>\n",
       "    <tr>\n",
       "      <th>16</th>\n",
       "      <td>wsi_brain</td>\n",
       "      <td>7.172423e+08</td>\n",
       "      <td>FittingMode.approximate</td>\n",
       "      <td>False</td>\n",
       "      <td>0.4547477</td>\n",
       "      <td>0.090949535</td>\n",
       "      <td>0.090949535</td>\n",
       "      <td>approximate without darkfield</td>\n",
       "    </tr>\n",
       "    <tr>\n",
       "      <th>18</th>\n",
       "      <td>wsi_brain</td>\n",
       "      <td>6.098246e+08</td>\n",
       "      <td>FittingMode.ladmap</td>\n",
       "      <td>False</td>\n",
       "      <td>0.45474768</td>\n",
       "      <td>0.090949535</td>\n",
       "      <td>0.090949535</td>\n",
       "      <td>ladmap without darkfield</td>\n",
       "    </tr>\n",
       "    <tr>\n",
       "      <th>17</th>\n",
       "      <td>wsi_brain</td>\n",
       "      <td>5.498033e+08</td>\n",
       "      <td>FittingMode.approximate</td>\n",
       "      <td>True</td>\n",
       "      <td>0.4547477</td>\n",
       "      <td>0.090949535</td>\n",
       "      <td>0.090949535</td>\n",
       "      <td>approximate with darkfield</td>\n",
       "    </tr>\n",
       "    <tr>\n",
       "      <th>19</th>\n",
       "      <td>wsi_brain</td>\n",
       "      <td>5.324092e+08</td>\n",
       "      <td>FittingMode.ladmap</td>\n",
       "      <td>True</td>\n",
       "      <td>0.45474768</td>\n",
       "      <td>0.090949535</td>\n",
       "      <td>0.090949535</td>\n",
       "      <td>ladmap with darkfield</td>\n",
       "    </tr>\n",
       "  </tbody>\n",
       "</table>\n",
       "</div>"
      ],
      "text/plain": [
       "                 data_key  lagrangian_value             fitting_mode  \\\n",
       "0            cell_culture      1.097853e+09  FittingMode.approximate   \n",
       "2            cell_culture      1.092930e+09       FittingMode.ladmap   \n",
       "1            cell_culture      1.114464e+09  FittingMode.approximate   \n",
       "3            cell_culture      1.070007e+09       FittingMode.ladmap   \n",
       "4   timelapse_brightfield      5.967080e+06  FittingMode.approximate   \n",
       "6   timelapse_brightfield      5.682776e+06       FittingMode.ladmap   \n",
       "5   timelapse_brightfield      5.910654e+06  FittingMode.approximate   \n",
       "7   timelapse_brightfield      5.686143e+06       FittingMode.ladmap   \n",
       "8         timelapse_nanog      1.051105e+07  FittingMode.approximate   \n",
       "10        timelapse_nanog      1.002854e+07       FittingMode.ladmap   \n",
       "9         timelapse_nanog      7.872974e+06  FittingMode.approximate   \n",
       "11        timelapse_nanog      6.977327e+06       FittingMode.ladmap   \n",
       "12          timelapse_pu1      3.767155e+07  FittingMode.approximate   \n",
       "14          timelapse_pu1      3.449156e+07       FittingMode.ladmap   \n",
       "13          timelapse_pu1      3.560265e+07  FittingMode.approximate   \n",
       "15          timelapse_pu1      3.388044e+07       FittingMode.ladmap   \n",
       "16              wsi_brain      7.172423e+08  FittingMode.approximate   \n",
       "18              wsi_brain      6.098246e+08       FittingMode.ladmap   \n",
       "17              wsi_brain      5.498033e+08  FittingMode.approximate   \n",
       "19              wsi_brain      5.324092e+08       FittingMode.ladmap   \n",
       "\n",
       "    get_darkfield lambda_flatfield lambda_darkfield lambda_darkfield_sparse  \\\n",
       "0           False       0.88837737       0.17767547              0.17767547   \n",
       "2           False        0.8883773       0.17767547              0.17767547   \n",
       "1            True       0.88837737       0.17767547              0.17767547   \n",
       "3            True        0.8883773       0.17767547              0.17767547   \n",
       "4           False        0.5591964       0.11183928              0.11183928   \n",
       "6           False        0.5591964       0.11183929              0.11183929   \n",
       "5            True        0.5591964       0.11183928              0.11183928   \n",
       "7            True        0.5591964       0.11183929              0.11183929   \n",
       "8           False       0.68333274       0.13666655              0.13666654   \n",
       "10          False       0.68333274       0.13666655              0.13666655   \n",
       "9            True       0.68333274       0.13666655              0.13666654   \n",
       "11           True       0.68333274       0.13666655              0.13666655   \n",
       "12          False         0.580258        0.1160516               0.1160516   \n",
       "14          False         0.580258       0.11605161              0.11605161   \n",
       "13           True         0.580258        0.1160516               0.1160516   \n",
       "15           True         0.580258       0.11605161              0.11605161   \n",
       "16          False        0.4547477      0.090949535             0.090949535   \n",
       "18          False       0.45474768      0.090949535             0.090949535   \n",
       "17           True        0.4547477      0.090949535             0.090949535   \n",
       "19           True       0.45474768      0.090949535             0.090949535   \n",
       "\n",
       "                             label  \n",
       "0   approximate without darkfield   \n",
       "2        ladmap without darkfield   \n",
       "1      approximate with darkfield   \n",
       "3           ladmap with darkfield   \n",
       "4   approximate without darkfield   \n",
       "6        ladmap without darkfield   \n",
       "5      approximate with darkfield   \n",
       "7           ladmap with darkfield   \n",
       "8   approximate without darkfield   \n",
       "10       ladmap without darkfield   \n",
       "9      approximate with darkfield   \n",
       "11          ladmap with darkfield   \n",
       "12  approximate without darkfield   \n",
       "14       ladmap without darkfield   \n",
       "13     approximate with darkfield   \n",
       "15          ladmap with darkfield   \n",
       "16  approximate without darkfield   \n",
       "18       ladmap without darkfield   \n",
       "17     approximate with darkfield   \n",
       "19          ladmap with darkfield   "
      ]
     },
     "execution_count": 111,
     "metadata": {},
     "output_type": "execute_result"
    }
   ],
   "source": [
    "result_df[\"label\"] = (\n",
    "    result_df[\"fitting_mode\"]\n",
    "    + \" \"\n",
    "    + result_df[\"get_darkfield\"].apply(lambda x: \"with \" if x else \"without \")\n",
    "    + \"darkfield \"\n",
    ")\n",
    "result_df = result_df.sort_values([\"data_key\", \"get_darkfield\"])\n",
    "result_df"
   ]
  },
  {
   "cell_type": "code",
   "execution_count": 112,
   "metadata": {},
   "outputs": [
    {
     "data": {
      "image/png": "[encoded data removed]",
      "text/plain": [
       "<Figure size 1000x300 with 5 Axes>"
      ]
     },
     "metadata": {
      "image/png": {
       "height": 511,
       "width": 828
      }
     },
     "output_type": "display_data"
    }
   ],
   "source": [
    "fig, axes = plt.subplots(1, 5, figsize=(10, 3), gridspec_kw=dict(wspace=0.5))\n",
    "for ax, (image_key, grp) in zip(axes, result_df.groupby(\"data_key\")):\n",
    "    ax.bar(\n",
    "        grp[\"label\"],\n",
    "        grp[\"lagrangian_value\"],\n",
    "    )\n",
    "    ax.xaxis.set_tick_params(rotation=90)"
   ]
  },
  {
   "cell_type": "code",
   "execution_count": 117,
   "metadata": {},
   "outputs": [],
   "source": [
    "summarized_df = []\n",
    "for (image_key, get_darkfield), grp in result_df.groupby([\"data_key\", \"get_darkfield\"]):\n",
    "    row_a = grp[grp[\"fitting_mode\"] == \"approximate\"]\n",
    "    row_l = grp[grp[\"fitting_mode\"] == \"ladmap\"]\n",
    "    summarized_df.append(\n",
    "        {\n",
    "            \"data_key\": image_key,\n",
    "            \"get_darkfield\": get_darkfield,\n",
    "            \"ratio\": row_l[\"lagrangian_value\"].values[0]\n",
    "            / row_a[\"lagrangian_value\"].values[0],\n",
    "        }\n",
    "    )\n",
    "summarized_df = pd.DataFrame.from_records(summarized_df)"
   ]
  },
  {
   "cell_type": "code",
   "execution_count": 124,
   "metadata": {},
   "outputs": [
    {
     "data": {
      "text/html": [
       "<div>\n",
       "<style scoped>\n",
       "    .dataframe tbody tr th:only-of-type {\n",
       "        vertical-align: middle;\n",
       "    }\n",
       "\n",
       "    .dataframe tbody tr th {\n",
       "        vertical-align: top;\n",
       "    }\n",
       "\n",
       "    .dataframe thead th {\n",
       "        text-align: right;\n",
       "    }\n",
       "</style>\n",
       "<table border=\"1\" class=\"dataframe\">\n",
       "  <thead>\n",
       "    <tr style=\"text-align: right;\">\n",
       "      <th></th>\n",
       "      <th>data_key</th>\n",
       "      <th>get_darkfield</th>\n",
       "      <th>ratio</th>\n",
       "    </tr>\n",
       "  </thead>\n",
       "  <tbody>\n",
       "    <tr>\n",
       "      <th>0</th>\n",
       "      <td>cell_culture</td>\n",
       "      <td>False</td>\n",
       "      <td>0.995516</td>\n",
       "    </tr>\n",
       "    <tr>\n",
       "      <th>1</th>\n",
       "      <td>cell_culture</td>\n",
       "      <td>True</td>\n",
       "      <td>0.960109</td>\n",
       "    </tr>\n",
       "    <tr>\n",
       "      <th>2</th>\n",
       "      <td>timelapse_brightfield</td>\n",
       "      <td>False</td>\n",
       "      <td>0.952355</td>\n",
       "    </tr>\n",
       "    <tr>\n",
       "      <th>3</th>\n",
       "      <td>timelapse_brightfield</td>\n",
       "      <td>True</td>\n",
       "      <td>0.962016</td>\n",
       "    </tr>\n",
       "    <tr>\n",
       "      <th>4</th>\n",
       "      <td>timelapse_nanog</td>\n",
       "      <td>False</td>\n",
       "      <td>0.954095</td>\n",
       "    </tr>\n",
       "    <tr>\n",
       "      <th>5</th>\n",
       "      <td>timelapse_nanog</td>\n",
       "      <td>True</td>\n",
       "      <td>0.886238</td>\n",
       "    </tr>\n",
       "    <tr>\n",
       "      <th>6</th>\n",
       "      <td>timelapse_pu1</td>\n",
       "      <td>False</td>\n",
       "      <td>0.915587</td>\n",
       "    </tr>\n",
       "    <tr>\n",
       "      <th>7</th>\n",
       "      <td>timelapse_pu1</td>\n",
       "      <td>True</td>\n",
       "      <td>0.951627</td>\n",
       "    </tr>\n",
       "    <tr>\n",
       "      <th>8</th>\n",
       "      <td>wsi_brain</td>\n",
       "      <td>False</td>\n",
       "      <td>0.850235</td>\n",
       "    </tr>\n",
       "    <tr>\n",
       "      <th>9</th>\n",
       "      <td>wsi_brain</td>\n",
       "      <td>True</td>\n",
       "      <td>0.968363</td>\n",
       "    </tr>\n",
       "  </tbody>\n",
       "</table>\n",
       "</div>"
      ],
      "text/plain": [
       "                data_key  get_darkfield     ratio\n",
       "0           cell_culture          False  0.995516\n",
       "1           cell_culture           True  0.960109\n",
       "2  timelapse_brightfield          False  0.952355\n",
       "3  timelapse_brightfield           True  0.962016\n",
       "4        timelapse_nanog          False  0.954095\n",
       "5        timelapse_nanog           True  0.886238\n",
       "6          timelapse_pu1          False  0.915587\n",
       "7          timelapse_pu1           True  0.951627\n",
       "8              wsi_brain          False  0.850235\n",
       "9              wsi_brain           True  0.968363"
      ]
     },
     "execution_count": 124,
     "metadata": {},
     "output_type": "execute_result"
    }
   ],
   "source": [
    "summarized_df"
   ]
  },
  {
   "cell_type": "code",
   "execution_count": 137,
   "metadata": {},
   "outputs": [
    {
     "data": {
      "text/html": [
       "<div>\n",
       "<style scoped>\n",
       "    .dataframe tbody tr th:only-of-type {\n",
       "        vertical-align: middle;\n",
       "    }\n",
       "\n",
       "    .dataframe tbody tr th {\n",
       "        vertical-align: top;\n",
       "    }\n",
       "\n",
       "    .dataframe thead th {\n",
       "        text-align: right;\n",
       "    }\n",
       "</style>\n",
       "<table border=\"1\" class=\"dataframe\">\n",
       "  <thead>\n",
       "    <tr style=\"text-align: right;\">\n",
       "      <th></th>\n",
       "      <th>data_key</th>\n",
       "      <th>get_darkfield</th>\n",
       "      <th>ratio</th>\n",
       "    </tr>\n",
       "  </thead>\n",
       "  <tbody>\n",
       "    <tr>\n",
       "      <th>1</th>\n",
       "      <td>cell_culture</td>\n",
       "      <td>True</td>\n",
       "      <td>0.960109</td>\n",
       "    </tr>\n",
       "    <tr>\n",
       "      <th>3</th>\n",
       "      <td>timelapse_brightfield</td>\n",
       "      <td>True</td>\n",
       "      <td>0.962016</td>\n",
       "    </tr>\n",
       "    <tr>\n",
       "      <th>5</th>\n",
       "      <td>timelapse_nanog</td>\n",
       "      <td>True</td>\n",
       "      <td>0.886238</td>\n",
       "    </tr>\n",
       "    <tr>\n",
       "      <th>7</th>\n",
       "      <td>timelapse_pu1</td>\n",
       "      <td>True</td>\n",
       "      <td>0.951627</td>\n",
       "    </tr>\n",
       "    <tr>\n",
       "      <th>9</th>\n",
       "      <td>wsi_brain</td>\n",
       "      <td>True</td>\n",
       "      <td>0.968363</td>\n",
       "    </tr>\n",
       "  </tbody>\n",
       "</table>\n",
       "</div>"
      ],
      "text/plain": [
       "                data_key  get_darkfield     ratio\n",
       "1           cell_culture           True  0.960109\n",
       "3  timelapse_brightfield           True  0.962016\n",
       "5        timelapse_nanog           True  0.886238\n",
       "7          timelapse_pu1           True  0.951627\n",
       "9              wsi_brain           True  0.968363"
      ]
     },
     "execution_count": 137,
     "metadata": {},
     "output_type": "execute_result"
    }
   ],
   "source": [
    "grp"
   ]
  },
  {
   "cell_type": "code",
   "execution_count": 145,
   "metadata": {},
   "outputs": [
    {
     "data": {
      "text/plain": [
       "Text(0.5, 0, 'dataset')"
      ]
     },
     "execution_count": 145,
     "metadata": {},
     "output_type": "execute_result"
    },
    {
     "data": {
      "image/png": "[encoded data removed]",
      "text/plain": [
       "<Figure size 600x400 with 1 Axes>"
      ]
     },
     "metadata": {
      "image/png": {
       "height": 400,
       "width": 539
      }
     },
     "output_type": "display_data"
    }
   ],
   "source": [
    "width = 0.35\n",
    "for get_darkfield, grp in summarized_df.groupby(\"get_darkfield\"):\n",
    "    xs = np.arange(len(grp)) + (width / 2 * (get_darkfield - 0.5) * 2)\n",
    "    plt.bar(\n",
    "        xs,\n",
    "        grp[\"ratio\"],\n",
    "        width,\n",
    "        label=(\"with \" if get_darkfield else \"without \") + \"darkfield\",\n",
    "    )\n",
    "    if get_darkfield:\n",
    "        plt.xticks(np.arange(len(grp)), grp[\"data_key\"], rotation=10, ha=\"right\")\n",
    "plt.hlines(1.0, -1, 5, ls=\"--\", color=\"k\")\n",
    "plt.ylabel(\"cost function ratio\")\n",
    "plt.xlim(-0.5, 4.5)\n",
    "plt.legend(loc=\"lower right\")\n",
    "plt.xlabel(\"dataset\")"
   ]
  },
  {
   "cell_type": "code",
   "execution_count": null,
   "metadata": {},
   "outputs": [],
   "source": []
  }
 ],
 "metadata": {
  "kernelspec": {
   "display_name": "Python 3.10.4 64-bit ('basicpy')",
   "language": "python",
   "name": "python3"
  },
  "language_info": {
   "codemirror_mode": {
    "name": "ipython",
    "version": 3
   },
   "file_extension": ".py",
   "mimetype": "text/x-python",
   "name": "python",
   "nbconvert_exporter": "python",
   "pygments_lexer": "ipython3",
   "version": "3.10.4"
  },
  "orig_nbformat": 4,
  "vscode": {
   "interpreter": {
    "hash": "94d90e34151816d9ad33c100d368abaa64323eadad93d233bb0bcc2f1acbe972"
   }
  }
 },
 "nbformat": 4,
 "nbformat_minor": 2
}
