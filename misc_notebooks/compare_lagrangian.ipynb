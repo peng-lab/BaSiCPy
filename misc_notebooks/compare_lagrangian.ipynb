{
 "cells": [
  {
   "cell_type": "code",
   "execution_count": null,
   "metadata": {},
   "outputs": [],
   "source": [
    "!pip uninstall basicpy -y\n",
    "!pip install -e ../"
   ]
  },
  {
   "cell_type": "code",
   "execution_count": null,
   "metadata": {},
   "outputs": [],
   "source": [
    "!pip install pandas"
   ]
  },
  {
   "cell_type": "code",
   "execution_count": null,
   "metadata": {},
   "outputs": [],
   "source": [
    "from basicpy import BaSiC\n",
    "from basicpy import datasets as bdata\n",
    "import numpy as np\n",
    "from basicpy.tools.dct_tools import JaxDCT\n",
    "from matplotlib import pyplot as plt\n",
    "import pandas as pd"
   ]
  },
  {
   "cell_type": "code",
   "execution_count": null,
   "metadata": {},
   "outputs": [],
   "source": [
    "data = bdata.wsi_brain()"
   ]
  },
  {
   "cell_type": "code",
   "execution_count": null,
   "metadata": {},
   "outputs": [],
   "source": [
    "basic_approximates = [\n",
    "    BaSiC(\n",
    "        fitting_mode=\"approximate\",\n",
    "        working_size=None,\n",
    "        get_darkfield=d,\n",
    "        max_reweight_iterations=1,\n",
    "    )\n",
    "    for d in [False, True]\n",
    "]\n",
    "\n",
    "basic_ladmaps = [\n",
    "    BaSiC(\n",
    "        fitting_mode=\"ladmap\",\n",
    "        working_size=None,\n",
    "        get_darkfield=d,\n",
    "        smoothness_flatfield=100 / 80000,\n",
    "        smoothness_darkfield=0.2,\n",
    "        sparse_cost_darkfield=0.2,\n",
    "        max_reweight_iterations=1,\n",
    "    )\n",
    "    for d in [False, True]\n",
    "]\n",
    "\n",
    "result_df = []\n",
    "for data_key in bdata.RESCALED_TEST_DATA_PROPS.keys():\n",
    "    data = bdata.fetch(data_key)\n",
    "    for b in basic_approximates + basic_ladmaps:\n",
    "        b.fit(data)\n",
    "        res = (\n",
    "            data\n",
    "            - b.baseline[:, np.newaxis, np.newaxis] * b.flatfield[np.newaxis]\n",
    "            - b.darkfield\n",
    "        )\n",
    "        assert np.allclose(res, b._residual, atol=100000, rtol=1e-2)\n",
    "        print(\n",
    "            [\n",
    "                b._smoothness_flatfield,\n",
    "                b._smoothness_darkfield,\n",
    "                b._sparse_cost_darkfield,\n",
    "            ]\n",
    "        )\n",
    "        lagrangians = [\n",
    "            np.sum(np.abs(res)),\n",
    "            b._smoothness_flatfield * np.sum(np.abs(JaxDCT.dct2d(b._S))),\n",
    "            b._smoothness_darkfield * np.sum(np.abs(JaxDCT.dct2d(b._D_R))),\n",
    "            b._sparse_cost_darkfield * np.sum(np.abs(b._D_R)),\n",
    "        ]\n",
    "        print(lagrangians)\n",
    "        print(sum(lagrangians) / 1e9)\n",
    "        result_df.append(\n",
    "            {\n",
    "                \"data_key\": data_key,\n",
    "                \"lagrangian_value\": np.sum(lagrangians),\n",
    "                \"fitting_mode\": b.fitting_mode,\n",
    "                \"get_darkfield\": b.get_darkfield,\n",
    "                \"smoothness_flatfield\": b._smoothness_flatfield,\n",
    "                \"smoothness_darkfield\": b._smoothness_darkfield,\n",
    "                \"sparse_cost_darkfield\": b._sparse_cost_darkfield,\n",
    "            }\n",
    "        )\n",
    "result_df = pd.DataFrame.from_records(result_df)"
   ]
  },
  {
   "cell_type": "code",
   "execution_count": null,
   "metadata": {},
   "outputs": [],
   "source": [
    "result_df[\"label\"] = (\n",
    "    result_df[\"fitting_mode\"]\n",
    "    + \" \"\n",
    "    + result_df[\"get_darkfield\"].apply(lambda x: \"with \" if x else \"without \")\n",
    "    + \"darkfield \"\n",
    ")\n",
    "result_df = result_df.sort_values([\"data_key\", \"get_darkfield\"])\n",
    "result_df"
   ]
  },
  {
   "cell_type": "code",
   "execution_count": null,
   "metadata": {},
   "outputs": [],
   "source": [
    "fig, axes = plt.subplots(1, 5, figsize=(10, 3), gridspec_kw=dict(wspace=0.5))\n",
    "for ax, (image_key, grp) in zip(axes, result_df.groupby(\"data_key\")):\n",
    "    ax.bar(\n",
    "        grp[\"label\"],\n",
    "        grp[\"lagrangian_value\"],\n",
    "    )\n",
    "    ax.xaxis.set_tick_params(rotation=90)"
   ]
  },
  {
   "cell_type": "code",
   "execution_count": null,
   "metadata": {},
   "outputs": [],
   "source": [
    "summarized_df = []\n",
    "for (image_key, get_darkfield), grp in result_df.groupby([\"data_key\", \"get_darkfield\"]):\n",
    "    row_a = grp[grp[\"fitting_mode\"] == \"approximate\"]\n",
    "    row_l = grp[grp[\"fitting_mode\"] == \"ladmap\"]\n",
    "    summarized_df.append(\n",
    "        {\n",
    "            \"data_key\": image_key,\n",
    "            \"get_darkfield\": get_darkfield,\n",
    "            \"ratio\": row_l[\"lagrangian_value\"].values[0]\n",
    "            / row_a[\"lagrangian_value\"].values[0],\n",
    "        }\n",
    "    )\n",
    "summarized_df = pd.DataFrame.from_records(summarized_df)"
   ]
  },
  {
   "cell_type": "code",
   "execution_count": null,
   "metadata": {},
   "outputs": [],
   "source": [
    "summarized_df"
   ]
  },
  {
   "cell_type": "code",
   "execution_count": null,
   "metadata": {},
   "outputs": [],
   "source": [
    "grp"
   ]
  },
  {
   "cell_type": "code",
   "execution_count": null,
   "metadata": {},
   "outputs": [],
   "source": [
    "width = 0.35\n",
    "for get_darkfield, grp in summarized_df.groupby(\"get_darkfield\"):\n",
    "    xs = np.arange(len(grp)) + (width / 2 * (get_darkfield - 0.5) * 2)\n",
    "    plt.bar(\n",
    "        xs,\n",
    "        grp[\"ratio\"],\n",
    "        width,\n",
    "        label=(\"with \" if get_darkfield else \"without \") + \"darkfield\",\n",
    "    )\n",
    "    if get_darkfield:\n",
    "        plt.xticks(np.arange(len(grp)), grp[\"data_key\"], rotation=10, ha=\"right\")\n",
    "plt.hlines(1.0, -1, 5, ls=\"--\", color=\"k\")\n",
    "plt.ylabel(\"cost function ratio\")\n",
    "plt.xlim(-0.5, 4.5)\n",
    "plt.legend(loc=\"lower right\")\n",
    "plt.xlabel(\"dataset\")"
   ]
  },
  {
   "cell_type": "code",
   "execution_count": null,
   "metadata": {},
   "outputs": [],
   "source": []
  }
 ],
 "metadata": {
  "kernelspec": {
   "display_name": "Python 3.10.4 64-bit ('basicpy')",
   "language": "python",
   "name": "python3"
  },
  "language_info": {
   "codemirror_mode": {
    "name": "ipython",
    "version": 3
   },
   "file_extension": ".py",
   "mimetype": "text/x-python",
   "name": "python",
   "nbconvert_exporter": "python",
   "pygments_lexer": "ipython3",
   "version": "3.10.4"
  },
  "orig_nbformat": 4,
  "vscode": {
   "interpreter": {
    "hash": "94d90e34151816d9ad33c100d368abaa64323eadad93d233bb0bcc2f1acbe972"
   }
  }
 },
 "nbformat": 4,
 "nbformat_minor": 2
}
