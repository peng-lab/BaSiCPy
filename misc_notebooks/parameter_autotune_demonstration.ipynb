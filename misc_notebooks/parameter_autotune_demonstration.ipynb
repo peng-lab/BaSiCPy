{
 "cells": [
  {
   "cell_type": "code",
   "execution_count": null,
   "metadata": {},
   "outputs": [],
   "source": [
    "%pip install -q matplotlib pandas tqdm m2stitch\n",
    "%pip install -q git+https://github.com/yfukai/BaSiCpy@autotune"
   ]
  },
  {
   "cell_type": "code",
   "execution_count": null,
   "metadata": {},
   "outputs": [],
   "source": [
    "from basicpy import BaSiC, datasets\n",
    "from matplotlib import pyplot as plt\n",
    "import numpy as np\n",
    "from hyperactive import Hyperactive\n",
    "import pandas as pd\n",
    "from m2stitch import stitch_images\n",
    "\n",
    "plt.rcParams[\"font.family\"] = \"\"\n",
    "plt.figure(figsize=(1, 1))\n",
    "plt.plot(range(2))"
   ]
  },
  {
   "cell_type": "code",
   "execution_count": null,
   "metadata": {},
   "outputs": [],
   "source": [
    "brain_wsi_image = datasets.wsi_brain()"
   ]
  },
  {
   "cell_type": "code",
   "execution_count": null,
   "metadata": {},
   "outputs": [],
   "source": [
    "brain_wsi_image.shape"
   ]
  },
  {
   "cell_type": "code",
   "execution_count": null,
   "metadata": {},
   "outputs": [],
   "source": [
    "def compose_image(img):\n",
    "    img_composed = np.empty(\n",
    "        (\n",
    "            img.shape[1] * 7,\n",
    "            img.shape[2] * 9,\n",
    "        )\n",
    "    )\n",
    "\n",
    "    y = 0\n",
    "    x = img.shape[2] * 8\n",
    "\n",
    "    rows = []\n",
    "    cols = []\n",
    "    for j, im in enumerate(img):\n",
    "        img_composed[y : y + img.shape[1], x : x + img.shape[2]] = im\n",
    "        rows.append(y // img.shape[1])\n",
    "        cols.append(x // img.shape[2])\n",
    "        if (y // img.shape[2]) % 2 == 0:\n",
    "            x -= img.shape[2]\n",
    "            if x < 0:\n",
    "                x = 0\n",
    "                y += img.shape[1]\n",
    "        else:\n",
    "            x += img.shape[2]\n",
    "            if x > img.shape[2] * 8:\n",
    "                x = img.shape[2] * 8\n",
    "                y += img.shape[1]\n",
    "    return img_composed, rows, cols"
   ]
  },
  {
   "cell_type": "code",
   "execution_count": null,
   "metadata": {},
   "outputs": [],
   "source": [
    "composed, rows, cols = compose_image(brain_wsi_image)\n",
    "plt.imshow(composed, vmin=970, vmax=10000)\n",
    "plt.colorbar()"
   ]
  },
  {
   "cell_type": "code",
   "execution_count": null,
   "metadata": {},
   "outputs": [],
   "source": [
    "basic = BaSiC(\n",
    "    get_darkfield=True,\n",
    ")"
   ]
  },
  {
   "cell_type": "code",
   "execution_count": null,
   "metadata": {},
   "outputs": [],
   "source": [
    "print(\n",
    "    basic.smoothness_flatfield, basic.smoothness_darkfield, basic.sparse_cost_darkfield\n",
    ")"
   ]
  },
  {
   "cell_type": "code",
   "execution_count": null,
   "metadata": {},
   "outputs": [],
   "source": [
    "transformed1 = basic.fit_transform(brain_wsi_image)\n",
    "composed, rows, cols = compose_image(transformed1)\n",
    "plt.imshow(composed, vmin=970, vmax=10000)\n",
    "plt.colorbar()"
   ]
  },
  {
   "cell_type": "code",
   "execution_count": null,
   "metadata": {},
   "outputs": [],
   "source": [
    "basic.autotune(brain_wsi_image, early_stop=True, n_iter=100)"
   ]
  },
  {
   "cell_type": "code",
   "execution_count": null,
   "metadata": {},
   "outputs": [],
   "source": [
    "print(\n",
    "    basic.smoothness_flatfield, basic.smoothness_darkfield, basic.sparse_cost_darkfield\n",
    ")"
   ]
  },
  {
   "cell_type": "code",
   "execution_count": null,
   "metadata": {},
   "outputs": [],
   "source": [
    "transformed2 = basic.fit_transform(brain_wsi_image)\n",
    "composed, rows, cols = compose_image(transformed2)\n",
    "plt.imshow(composed, vmin=970, vmax=10000)\n",
    "plt.colorbar()"
   ]
  },
  {
   "cell_type": "code",
   "execution_count": null,
   "metadata": {},
   "outputs": [],
   "source": [
    "df, props = stitch_images(\n",
    "    transformed1, rows, cols, row_col_transpose=False, ncc_threshold=0.2\n",
    ")"
   ]
  },
  {
   "cell_type": "code",
   "execution_count": null,
   "metadata": {},
   "outputs": [],
   "source": [
    "stitched_images = []\n",
    "\n",
    "for image in [brain_wsi_image, transformed1, transformed2]:\n",
    "    stitched_image = np.zeros(\n",
    "        (\n",
    "            image.shape[1] + df[\"y_pos\"].max(),\n",
    "            image.shape[2] + df[\"x_pos\"].max(),\n",
    "        )\n",
    "    )\n",
    "    for (_, row), im in zip(df.iterrows(), image):\n",
    "        stitched_image[\n",
    "            row[\"y_pos\"] : row[\"y_pos\"] + im.shape[0],\n",
    "            row[\"x_pos\"] : row[\"x_pos\"] + im.shape[1],\n",
    "        ] = im\n",
    "    stitched_images.append(stitched_image)"
   ]
  },
  {
   "cell_type": "code",
   "execution_count": null,
   "metadata": {},
   "outputs": [],
   "source": [
    "for name, stitched_image in zip(\n",
    "    [\"original\", \"default parameter\", \"tuned parameter\"], stitched_images\n",
    "):\n",
    "    plt.figure(figsize=(5, 5))\n",
    "    plt.title(name)\n",
    "    plt.imshow(stitched_image, vmin=970, vmax=10000)\n",
    "    plt.colorbar()"
   ]
  },
  {
   "cell_type": "code",
   "execution_count": null,
   "metadata": {},
   "outputs": [],
   "source": []
  }
 ],
 "metadata": {
  "kernelspec": {
   "display_name": "basicpy",
   "language": "python",
   "name": "python3"
  },
  "language_info": {
   "codemirror_mode": {
    "name": "ipython",
    "version": 3
   },
   "file_extension": ".py",
   "mimetype": "text/x-python",
   "name": "python",
   "nbconvert_exporter": "python",
   "pygments_lexer": "ipython3",
   "version": "3.9.16"
  },
  "orig_nbformat": 4
 },
 "nbformat": 4,
 "nbformat_minor": 2
}
