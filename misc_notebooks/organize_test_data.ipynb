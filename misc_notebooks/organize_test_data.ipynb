{
 "cells": [
  {
   "cell_type": "code",
   "execution_count": null,
   "metadata": {},
   "outputs": [],
   "source": [
    "%pip install -q matplotlib\n",
    "%pip uninstall -yq basicpy\n",
    "%pip install -q -e .."
   ]
  },
  {
   "cell_type": "code",
   "execution_count": null,
   "metadata": {},
   "outputs": [],
   "source": [
    "import numpy as np\n",
    "from matplotlib import pyplot as plt\n",
    "from basicpy import BaSiC\n",
    "from basicpy.basicpy import FittingMode\n",
    "from itertools import product\n",
    "import os\n",
    "\n",
    "import logging\n",
    "\n",
    "logging.getLogger(\"basicpy\").setLevel(level=logging.DEBUG)"
   ]
  },
  {
   "attachments": {},
   "cell_type": "markdown",
   "metadata": {},
   "source": [
    "# Synthetic data test"
   ]
  },
  {
   "cell_type": "code",
   "execution_count": null,
   "metadata": {},
   "outputs": [],
   "source": [
    "basic = BaSiC(\n",
    "    get_darkfield=False,\n",
    "    smoothness_flatfield=1,\n",
    "    max_reweight_iterations=1,\n",
    "    max_iterations=2000,\n",
    ")\n",
    "\n",
    "\n",
    "\"\"\"Generate a parabolic gradient to simulate uneven illumination\"\"\"\n",
    "# Create a gradient\n",
    "n_images = 8\n",
    "size = basic.working_size\n",
    "grid = np.meshgrid(*(2 * (np.linspace(-size // 2 + 1, size // 2, size),)))\n",
    "gradient = sum(d**2 for d in grid)\n",
    "gradient = 0.01 * (np.max(gradient) - gradient) + 10\n",
    "gradient_int = gradient.astype(np.uint8)\n",
    "\n",
    "# Ground truth, for correctness checking\n",
    "truth = gradient / gradient.mean()\n",
    "\n",
    "# Create an image stack and add poisson noise\n",
    "synthetic_images = np.random.poisson(\n",
    "    lam=gradient_int.flatten(), size=(n_images, size**2)\n",
    ").reshape((n_images, size, size))\n",
    "plt.imshow(synthetic_images[0])\n",
    "plt.show()\n",
    "\n",
    "\n",
    "\"\"\"Fit with BaSiC\"\"\"\n",
    "basic.fit(synthetic_images)\n",
    "plt.imshow(basic.flatfield)\n",
    "plt.show()\n",
    "plt.imshow(basic.flatfield - truth)\n",
    "plt.colorbar()\n",
    "plt.show()\n",
    "\"\"\"Fit with BaSiC\"\"\"\n",
    "basic.fit(synthetic_images * 10000)\n",
    "plt.imshow(basic.flatfield)\n",
    "plt.show()\n",
    "plt.imshow(basic.flatfield - truth)\n",
    "plt.colorbar()\n",
    "plt.show()"
   ]
  },
  {
   "attachments": {},
   "cell_type": "markdown",
   "metadata": {},
   "source": [
    "# Exporting data for test"
   ]
  },
  {
   "cell_type": "code",
   "execution_count": null,
   "metadata": {},
   "outputs": [],
   "source": [
    "images = {}\n",
    "keys = [\n",
    "    \"cell_culture\",\n",
    "    \"timelapse_brightfield\",\n",
    "    \"timelapse_nanog\",\n",
    "    \"timelapse_pu1\",\n",
    "    \"wsi_brain\",\n",
    "]\n",
    "for k in keys:\n",
    "    d = np.load(f\"../data/{k}.npz\")\n",
    "    im = d[\"images\"]\n",
    "    print(im.shape, im.dtype)\n",
    "    plt.imshow(im[10])\n",
    "    images[k] = im\n",
    "    plt.show()"
   ]
  },
  {
   "cell_type": "code",
   "execution_count": null,
   "metadata": {},
   "outputs": [],
   "source": [
    "os.makedirs(\"../tests/test_basic\", exist_ok=True)\n",
    "os.makedirs(\"../tests/test_basic/plots\", exist_ok=True)\n",
    "\n",
    "import logging\n",
    "\n",
    "logging.getLogger(\"basicpy\").setLevel(level=logging.WARNING)\n",
    "\n",
    "figsize = 3\n",
    "\n",
    "for fitting_mode in list(FittingMode)[:]:\n",
    "    nrows = len(images) * 4\n",
    "    fig, axes = plt.subplots(\n",
    "        nrows,\n",
    "        3,\n",
    "        figsize=[figsize * 1.5 * 3, figsize * nrows],\n",
    "        gridspec_kw={\"hspace\": 0.5, \"wspace\": 0.5},\n",
    "    )\n",
    "    results = []\n",
    "    for j, ((k, im), (get_darkfield, sort_intensity)) in enumerate(\n",
    "        product(images.items(), product([False, True], repeat=2))\n",
    "    ):\n",
    "        print(j)\n",
    "        b = BaSiC(\n",
    "            fitting_mode=fitting_mode,\n",
    "            smoothness_flatfield=1.0,\n",
    "            smoothness_darkfield=1.0,\n",
    "            sparse_cost_darkfield=0.01,\n",
    "            get_darkfield=get_darkfield,\n",
    "            sort_intensity=sort_intensity,\n",
    "            max_reweight_iterations=4,\n",
    "            max_iterations=500,\n",
    "            optimization_tol=1e-3,\n",
    "            optimization_tol_diff=1e-2,\n",
    "        )\n",
    "        b.fit(im)\n",
    "        # b.fit(im)\n",
    "        for ax, res_im in zip(axes[j], [b.flatfield, b.darkfield]):\n",
    "            _im = ax.imshow(res_im)\n",
    "            plt.colorbar(_im, ax=ax)\n",
    "        axes[j, 2].plot(b.baseline)\n",
    "        boolstr = lambda x: \"with\" if x else \"without\"\n",
    "        k2 = f\"{k}_{fitting_mode.value}_{boolstr(get_darkfield)}-darkfield_{boolstr(sort_intensity)}-sort\"\n",
    "        axes[j, 1].set_title(k2)\n",
    "        results.append(\n",
    "            dict(\n",
    "                image_name=k,\n",
    "                flatfield=np.array(b.flatfield),\n",
    "                darkfield=np.array(b.darkfield),\n",
    "                baseline=np.array(b.baseline),\n",
    "                params=b.dict(),\n",
    "            )\n",
    "        )\n",
    "    fig.savefig(\n",
    "        f\"../tests/test_basic/plots/{fitting_mode.value}.png\", bbox_inches=\"tight\"\n",
    "    )\n",
    "    np.savez_compressed(\n",
    "        f\"../tests/test_basic/{fitting_mode.value}.npz\", results=results\n",
    "    )"
   ]
  },
  {
   "cell_type": "code",
   "execution_count": null,
   "metadata": {},
   "outputs": [],
   "source": []
  }
 ],
 "metadata": {
  "kernelspec": {
   "display_name": "Python 3.10.4 64-bit ('basicpy')",
   "language": "python",
   "name": "python3"
  },
  "language_info": {
   "codemirror_mode": {
    "name": "ipython",
    "version": 3
   },
   "file_extension": ".py",
   "mimetype": "text/x-python",
   "name": "python",
   "nbconvert_exporter": "python",
   "pygments_lexer": "ipython3",
   "version": "3.10.4"
  },
  "orig_nbformat": 4,
  "vscode": {
   "interpreter": {
    "hash": "94d90e34151816d9ad33c100d368abaa64323eadad93d233bb0bcc2f1acbe972"
   }
  }
 },
 "nbformat": 4,
 "nbformat_minor": 2
}
